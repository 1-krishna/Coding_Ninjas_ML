{
 "cells": [
  {
   "cell_type": "code",
   "execution_count": 2,
   "metadata": {},
   "outputs": [
    {
     "name": "stdout",
     "output_type": "stream",
     "text": [
      "hello world\n",
      "olleh dlrow "
     ]
    }
   ],
   "source": [
    "s = input()\n",
    "i=0\n",
    "while(i<len(s)):\n",
    "    cur = \"\"\n",
    "    while(i<len(s) and s[i]!=\" \"):\n",
    "        cur = cur + s[i]\n",
    "        i = i+1\n",
    "    print(cur[::-1], end=\" \")\n",
    "    i = i + 1"
   ]
  },
  {
   "cell_type": "code",
   "execution_count": 4,
   "metadata": {},
   "outputs": [
    {
     "name": "stdout",
     "output_type": "stream",
     "text": [
      "50\n"
     ]
    }
   ],
   "source": [
    "#Function\n",
    "\n",
    "def name_of_function(a, b):\n",
    "    return a+b\n",
    "\n",
    "x = 20\n",
    "y = 30\n",
    "print(name_of_function(x,y))"
   ]
  },
  {
   "cell_type": "code",
   "execution_count": 1,
   "metadata": {},
   "outputs": [
    {
     "name": "stdout",
     "output_type": "stream",
     "text": [
      "15625\n",
      "25\n"
     ]
    }
   ],
   "source": [
    "#Default argument to a function\n",
    "def power(x, y=2):\n",
    "    return x**y\n",
    "\n",
    "x = 5\n",
    "y = 6\n",
    "print(power(x, y))\n",
    "print(power(x))#prints square as y=2(default)"
   ]
  },
  {
   "cell_type": "code",
   "execution_count": 11,
   "metadata": {},
   "outputs": [
    {
     "name": "stdout",
     "output_type": "stream",
     "text": [
      "6\n",
      "5\n",
      "17\n"
     ]
    }
   ],
   "source": [
    "def sum3(a = 5, b = 1, c = 2):\n",
    "    return a+b+c\n",
    "print(sum3(1,2,3))\n",
    "print(sum3(1,2)) #assigned to a and b\n",
    "print(sum3(b=10)) #assigned to b\n",
    "#similar to print(\"abc\", end=\" \")\n",
    "\n"
   ]
  },
  {
   "cell_type": "code",
   "execution_count": 5,
   "metadata": {},
   "outputs": [
    {
     "ename": "SyntaxError",
     "evalue": "non-default argument follows default argument (<ipython-input-5-6f077f147041>, line 1)",
     "output_type": "error",
     "traceback": [
      "\u001b[1;36m  File \u001b[1;32m\"<ipython-input-5-6f077f147041>\"\u001b[1;36m, line \u001b[1;32m1\u001b[0m\n\u001b[1;33m    def sum4(a=5, b, c=3):\u001b[0m\n\u001b[1;37m            ^\u001b[0m\n\u001b[1;31mSyntaxError\u001b[0m\u001b[1;31m:\u001b[0m non-default argument follows default argument\n"
     ]
    }
   ],
   "source": [
    "def sum4(a=5, b, c=3):\n",
    "    return a+b+c\n",
    "print(sum4(2))\n",
    "\n",
    "#the above can't be performed as the value assignment begins from starting in any function call\n",
    "#hence the value 2 will be allocated to a, and b reamins unassigned"
   ]
  },
  {
   "cell_type": "code",
   "execution_count": 15,
   "metadata": {},
   "outputs": [
    {
     "data": {
      "text/plain": [
       "44"
      ]
     },
     "execution_count": 15,
     "metadata": {},
     "output_type": "execute_result"
    }
   ],
   "source": [
    "#Variable input in a function\n",
    "def sum_variable(a, b, *more):\n",
    "    ans = a + b\n",
    "    for i in more:\n",
    "        ans += i\n",
    "    return ans\n",
    "\n",
    "sum_variable(2,3,4,5,6,7,8,9)"
   ]
  },
  {
   "cell_type": "code",
   "execution_count": 17,
   "metadata": {},
   "outputs": [
    {
     "name": "stdout",
     "output_type": "stream",
     "text": [
      "8\n",
      "2\n"
     ]
    }
   ],
   "source": [
    "#more than one return value in function\n",
    "def dummy(a, b):\n",
    "    return a + b, a - b\n",
    "    #returning a tuple\n",
    "add, difference = dummy(5,3)\n",
    "\n",
    "print(add)\n",
    "print(difference)"
   ]
  },
  {
   "cell_type": "code",
   "execution_count": 21,
   "metadata": {},
   "outputs": [
    {
     "name": "stdout",
     "output_type": "stream",
     "text": [
      "10\n",
      "1010\n"
     ]
    }
   ],
   "source": [
    "#decimal to binary\n",
    "n = int(input())\n",
    "binary = \"\"\n",
    "while n!=0:\n",
    "  mod = n%2\n",
    "  binary = str(mod) + binary\n",
    "  n = n//2\n",
    "print(binary)"
   ]
  },
  {
   "cell_type": "code",
   "execution_count": null,
   "metadata": {},
   "outputs": [],
   "source": []
  }
 ],
 "metadata": {
  "kernelspec": {
   "display_name": "Python 3",
   "language": "python",
   "name": "python3"
  },
  "language_info": {
   "codemirror_mode": {
    "name": "ipython",
    "version": 3
   },
   "file_extension": ".py",
   "mimetype": "text/x-python",
   "name": "python",
   "nbconvert_exporter": "python",
   "pygments_lexer": "ipython3",
   "version": "3.6.5"
  }
 },
 "nbformat": 4,
 "nbformat_minor": 2
}

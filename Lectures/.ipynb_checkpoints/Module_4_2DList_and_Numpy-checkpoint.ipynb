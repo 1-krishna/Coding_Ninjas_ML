{
 "cells": [
  {
   "cell_type": "markdown",
   "metadata": {},
   "source": [
    "List"
   ]
  },
  {
   "cell_type": "code",
   "execution_count": 6,
   "metadata": {},
   "outputs": [
    {
     "name": "stdout",
     "output_type": "stream",
     "text": [
      "4\n"
     ]
    },
    {
     "data": {
      "text/plain": [
       "[[0, 1, 2], [0, 1, 2], [0, 1, 2], [0, 1, 2], [0, 1, 2], [0, 1, 2]]"
      ]
     },
     "execution_count": 6,
     "metadata": {},
     "output_type": "execute_result"
    }
   ],
   "source": [
    "#how to create 2d list\n",
    "l = [1, 2, [3, 4, 5]]\n",
    "print(l[2][1])\n",
    "\n",
    "l2d = [[0,0,0] for i in range(10)]\n",
    "l2d\n",
    "\n",
    "l2d1 = [[j for j in range(3)] for i in range(6)]\n",
    "l2d1"
   ]
  },
  {
   "cell_type": "code",
   "execution_count": 1,
   "metadata": {},
   "outputs": [
    {
     "name": "stdout",
     "output_type": "stream",
     "text": [
      "1 2 3\n",
      "4 5 6\n"
     ]
    },
    {
     "data": {
      "text/plain": [
       "[[1, 2, 3], [4, 5, 6]]"
      ]
     },
     "execution_count": 1,
     "metadata": {},
     "output_type": "execute_result"
    }
   ],
   "source": [
    "#input in 2d list\n",
    "#if input format is as given below\n",
    "#1 2 3\n",
    "#4 5 6\n",
    "row = 2\n",
    "col = 3\n",
    "lis2d = [[int(j) for j in input().strip().split(\" \")] for i in range(row)]\n",
    "lis2d"
   ]
  },
  {
   "cell_type": "code",
   "execution_count": 8,
   "metadata": {},
   "outputs": [
    {
     "name": "stdout",
     "output_type": "stream",
     "text": [
      "1 2 3 4 5 6\n"
     ]
    },
    {
     "data": {
      "text/plain": [
       "[[1, 2, 3], [4, 5, 6]]"
      ]
     },
     "execution_count": 8,
     "metadata": {},
     "output_type": "execute_result"
    }
   ],
   "source": [
    "#input in 2d list for below input format\n",
    "#1 2 3 4 5 6\n",
    "row = 2\n",
    "col = 3\n",
    "ip = input().strip().split(\" \")\n",
    "lis2d = [[int(ip[col*i + j]) for j in range(col)] for i in range(row)]\n",
    "lis2d"
   ]
  },
  {
   "cell_type": "code",
   "execution_count": 9,
   "metadata": {},
   "outputs": [],
   "source": [
    "#Program of Wave Print"
   ]
  },
  {
   "cell_type": "code",
   "execution_count": 21,
   "metadata": {},
   "outputs": [
    {
     "name": "stdout",
     "output_type": "stream",
     "text": [
      "3 3\n",
      "3 6 9 1 4 7 2 8 9\n",
      "column 2 25\n"
     ]
    }
   ],
   "source": [
    "pt = input().strip().split(\" \")\n",
    "\n",
    "row = int(pt[0])\n",
    "col = int(pt[1])\n",
    "\n",
    "str = input().strip().split(\" \")\n",
    "array = [[int(str[col*i + j]) for j in range(col)] for i in range(row)]\n",
    "\n",
    "max_name = \"row\"\n",
    "max_sum = 0\n",
    "no_of = 0\n",
    "for i in range(row):\n",
    "  cur_sum = sum(array[i])\n",
    "  if cur_sum > max_sum:\n",
    "    max_sum = cur_sum\n",
    "    no_of = i\n",
    "\n",
    "for i in range(col):\n",
    "  cur_sum = 0\n",
    "  for j in range(row):\n",
    "    cur_sum += array[j][i]\n",
    "  if cur_sum > max_sum:\n",
    "    max_sum = cur_sum\n",
    "    no_of = i\n",
    "    max_name = \"column\"\n",
    "    \n",
    "print(max_name, no_of, max_sum)"
   ]
  },
  {
   "cell_type": "code",
   "execution_count": 31,
   "metadata": {},
   "outputs": [
    {
     "name": "stdout",
     "output_type": "stream",
     "text": [
      "4 4 1 2 3 4 5 6 7 8 9 10 11 12 13 14 15 16\n",
      "[[1, 2, 3, 4], [5, 6, 7, 8], [9, 10, 11, 12], [13, 14, 15, 16]]\n",
      "1 2 3 4 8 12 16 15 14 13 9 5 6 7 11 10 "
     ]
    }
   ],
   "source": [
    "#spiral print\n",
    "str = input().strip().split(\" \")\n",
    "\n",
    "row = int(str[0])\n",
    "col = int(str[1])\n",
    "\n",
    "array =[[int(str[i * row + j + 2]) for j in range(col)] for i in range(row)]\n",
    "print(array)\n",
    "start_row = 0;\n",
    "end_row = row - 1\n",
    "start_col = 0\n",
    "end_col = col - 1\n",
    "print_count = 0\n",
    "while print_count < len(str) - 2:\n",
    "  for i in range(start_col, end_col + 1):\n",
    "    print(array[start_row][i], end = \" \")\n",
    "    print_count += 1\n",
    "    \n",
    "  start_row += 1\n",
    "  for i in range(start_row, end_row + 1):\n",
    "    print(array[i][end_col], end = \" \")\n",
    "    print_count += 1\n",
    "  end_col -= 1\n",
    "  for i in range(end_col, start_col - 1, -1):\n",
    "    print(array[end_row][i], end = \" \")\n",
    "    print_count += 1\n",
    "  end_row -= 1\n",
    "  for i in range(end_row, start_row - 1, -1):\n",
    "    print(array[i][start_col], end = \" \")\n",
    "    print_count += 1\n",
    "  start_col += 1"
   ]
  },
  {
   "cell_type": "markdown",
   "metadata": {},
   "source": [
    "IMPORTING"
   ]
  },
  {
   "cell_type": "code",
   "execution_count": 2,
   "metadata": {},
   "outputs": [
    {
     "data": {
      "text/plain": [
       "3.1622776601683795"
      ]
     },
     "execution_count": 2,
     "metadata": {},
     "output_type": "execute_result"
    }
   ],
   "source": [
    "#importing some part from lib\n",
    "#from x import y\n",
    "\n",
    "#importing whole lib\n",
    "#import x as y\n",
    "\n",
    "import math\n",
    "math.sqrt(10)"
   ]
  },
  {
   "cell_type": "code",
   "execution_count": 10,
   "metadata": {},
   "outputs": [
    {
     "data": {
      "text/plain": [
       "3.1622776601683795"
      ]
     },
     "execution_count": 10,
     "metadata": {},
     "output_type": "execute_result"
    }
   ],
   "source": [
    "import math as m\n",
    "m.sqrt(10)"
   ]
  },
  {
   "cell_type": "code",
   "execution_count": 11,
   "metadata": {},
   "outputs": [
    {
     "data": {
      "text/plain": [
       "3.1622776601683795"
      ]
     },
     "execution_count": 11,
     "metadata": {},
     "output_type": "execute_result"
    }
   ],
   "source": [
    "from math import sqrt\n",
    "sqrt(10)"
   ]
  },
  {
   "cell_type": "markdown",
   "metadata": {},
   "source": [
    "NUMPY"
   ]
  },
  {
   "cell_type": "code",
   "execution_count": 55,
   "metadata": {},
   "outputs": [
    {
     "name": "stdout",
     "output_type": "stream",
     "text": [
      "[1 2 3]\n",
      "['1' '2' '3']\n",
      "[0. 0. 0. 0. 0. 0. 0. 0. 0. 0.]\n",
      "[1. 1. 1. 1. 1. 1. 1. 1. 1. 1.]\n",
      "[0 0 0 0 0 0 0 0 0 0]\n",
      "<class 'numpy.ndarray'>\n",
      "float64\n",
      "<class 'numpy.ndarray'>\n",
      "int32\n",
      "[0 1 2 3 4 5 6 7 8 9]\n"
     ]
    }
   ],
   "source": [
    "#how to create numpy array\n",
    "import numpy as np\n",
    "l = [1,2,3]\n",
    "print(np.array(l))\n",
    "\n",
    "#if any of element in list is a string the numpy array created will be of string type\n",
    "l = [1, 2, \"3\"]\n",
    "print(np.array(l)) \n",
    "\n",
    "#some methods\n",
    "print(np.zeros(10))#default value is float\n",
    "print(np.ones(10))#default is float\n",
    "\n",
    "#to explicitly enter int value\n",
    "print(np.zeros(10, int))\n",
    "a = np.zeros(10)\n",
    "print(type(a))\n",
    "print(a.dtype)\n",
    "\n",
    "a = np.zeros(10, int)\n",
    "print(type(a))\n",
    "print(a.dtype)\n",
    "\n",
    "print(np.arange(10))\n",
    "\n"
   ]
  },
  {
   "cell_type": "code",
   "execution_count": 28,
   "metadata": {},
   "outputs": [
    {
     "name": "stdout",
     "output_type": "stream",
     "text": [
      "[[0 0 0]\n",
      " [0 0 0]]\n",
      "[[[0 0 0 0]\n",
      "  [0 0 0 0]\n",
      "  [0 0 0 0]]\n",
      "\n",
      " [[0 0 0 0]\n",
      "  [0 0 0 0]\n",
      "  [0 0 0 0]]]\n"
     ]
    }
   ],
   "source": [
    "import numpy as np\n",
    "#2d array\n",
    "#enter tuple\n",
    "print(np.zeros((2, 3), int))\n",
    "\n",
    "#3d array\n",
    "print(np.zeros((2,3,4), int))\n",
    "#similaryl multidimensional arrays"
   ]
  },
  {
   "cell_type": "code",
   "execution_count": 36,
   "metadata": {},
   "outputs": [
    {
     "name": "stdout",
     "output_type": "stream",
     "text": [
      "[1 2 3]\n",
      "[5 2 3]\n"
     ]
    }
   ],
   "source": [
    "#auto conversion\n",
    "l = [1, 2, 3]\n",
    "#the numpy array generated will be of type int\n",
    "a = np.array(l)\n",
    "print(a)\n",
    "\n",
    "#suppose we try to enter an int as string \n",
    "#it will be auto converted to int\n",
    "a[0] = \"5\"# \"5\" is converted to 5\n",
    "print(a)\n",
    "\n",
    "#throws error\n",
    "#a[0] = \"5.0\"\n",
    "\n",
    "#throws error\n",
    "#a[0] = \"p\"\n",
    "\n",
    "#means once numpy array is created its datatype can't be changed"
   ]
  },
  {
   "cell_type": "code",
   "execution_count": 40,
   "metadata": {},
   "outputs": [
    {
     "name": "stdout",
     "output_type": "stream",
     "text": [
      "[5]\n",
      "(3,)\n"
     ]
    }
   ],
   "source": [
    "#slicing\n",
    "print(a[0:1])\n",
    "\n",
    "#shape(size of array)\n",
    "print(a.shape)\n"
   ]
  },
  {
   "cell_type": "code",
   "execution_count": 54,
   "metadata": {},
   "outputs": [
    {
     "name": "stdout",
     "output_type": "stream",
     "text": [
      "[1 2 3 7 8]\n",
      "[ 1  4 11]\n",
      "[1 4]\n",
      "to differentiate\n",
      "[[ 3  7]\n",
      " [ 6  9]\n",
      " [13 14]]\n"
     ]
    }
   ],
   "source": [
    "#accessing row and column in 2d array\n",
    "p = np.array([[1,2,3,7,8],[4,5,6,9,10],[11,12,13,14,15]])\n",
    "#accessing 0th row\n",
    "print(p[0])\n",
    "\n",
    "#accessing 0th column\n",
    "print(p[:,0])\n",
    "#p[:, 0] means i need everything in terms of row and need 0th col only in terms of col\n",
    "\n",
    "print(p[0:2, 0])\n",
    "print(\"to differentiate\")\n",
    "print(p[:, 2:4])"
   ]
  },
  {
   "cell_type": "markdown",
   "metadata": {},
   "source": [
    "#NUMPY OPERATIONS"
   ]
  },
  {
   "cell_type": "code",
   "execution_count": 63,
   "metadata": {},
   "outputs": [
    {
     "name": "stdout",
     "output_type": "stream",
     "text": [
      "[3 4 5]\n",
      "[5 7 9]\n",
      "[2 4 6]\n",
      "[ 4 10 18]\n",
      "[  1  32 729]\n"
     ]
    }
   ],
   "source": [
    "a = np.array([1,2,3])\n",
    "b = np.array([4,5,6])\n",
    "\n",
    "#add 2 to every element\n",
    "print(a + 2)\n",
    "\n",
    "#elementwise operation\n",
    "print(a+b)\n",
    "#if dimensions are different we get an error\n",
    "\n",
    "\n",
    "print(a*2)\n",
    "\n",
    "print(a*b) #elementwise\n",
    "\n",
    "print(a**b)#elementwise\n"
   ]
  },
  {
   "cell_type": "code",
   "execution_count": 66,
   "metadata": {},
   "outputs": [
    {
     "name": "stdout",
     "output_type": "stream",
     "text": [
      "2.0\n",
      "6\n"
     ]
    }
   ],
   "source": [
    "#mean of an array\n",
    "print(a.mean())\n",
    "print(a.sum())"
   ]
  },
  {
   "cell_type": "code",
   "execution_count": 76,
   "metadata": {},
   "outputs": [
    {
     "name": "stdout",
     "output_type": "stream",
     "text": [
      "27\n",
      "5.196152422706632\n"
     ]
    }
   ],
   "source": [
    "#sample problem to find square distance\n",
    "import math\n",
    "t = ((a-b) ** 2).sum()\n",
    "print(t)\n",
    "t = math.sqrt(t)\n",
    "print(t)"
   ]
  },
  {
   "cell_type": "code",
   "execution_count": 80,
   "metadata": {},
   "outputs": [
    {
     "name": "stdout",
     "output_type": "stream",
     "text": [
      "14.75\n"
     ]
    }
   ],
   "source": [
    "# sample prob--->to calc sum((Xi- Xmean)^2)\n",
    "\n",
    "x = np.array([1,3,5,6])\n",
    "print(((x - x.mean()) * x).sum())"
   ]
  },
  {
   "cell_type": "code",
   "execution_count": 83,
   "metadata": {},
   "outputs": [
    {
     "data": {
      "text/plain": [
       "array([[300, 360],\n",
       "       [660, 810]])"
      ]
     },
     "execution_count": 83,
     "metadata": {},
     "output_type": "execute_result"
    }
   ],
   "source": [
    "#dot product\n",
    "a1 = np.array([[1,2,3],[4,5,6]])\n",
    "a2 = np.array([[10,20],[40,50],[70,80]])\n",
    "a1.dot(a2)"
   ]
  },
  {
   "cell_type": "code",
   "execution_count": 91,
   "metadata": {},
   "outputs": [
    {
     "name": "stdout",
     "output_type": "stream",
     "text": [
      "[[1 2 4]\n",
      " [3 4 5]]\n"
     ]
    },
    {
     "data": {
      "text/plain": [
       "(2, 3)"
      ]
     },
     "execution_count": 91,
     "metadata": {},
     "output_type": "execute_result"
    }
   ],
   "source": [
    "#similary numpy is offering np.matrix() for matrix\n",
    "#their operations also beahves like matrix operations\n",
    "#like a*b will do matrix multiplication instead of individual element multiplication as in array\n",
    "\n",
    "a = np.matrix('1 2 4; 3 4 5')\n",
    "print(a)\n",
    "a.shape"
   ]
  },
  {
   "cell_type": "code",
   "execution_count": 87,
   "metadata": {},
   "outputs": [
    {
     "data": {
      "text/plain": [
       "26"
      ]
     },
     "execution_count": 87,
     "metadata": {},
     "output_type": "execute_result"
    }
   ],
   "source": [
    "a = np.array([0, 1, 2, 3])\n",
    "b = np.array([2, 3, 4, 5])\n",
    "a.dot(b)"
   ]
  },
  {
   "cell_type": "code",
   "execution_count": 104,
   "metadata": {},
   "outputs": [
    {
     "name": "stdout",
     "output_type": "stream",
     "text": [
      "[2 5]\n",
      "[0 7]\n"
     ]
    }
   ],
   "source": [
    "#output prob\n",
    "print(np.sum([[0,2], [0,5]], axis = 1))#performs row-wise sum\n",
    "\n",
    "\n",
    "print(np.sum([[0,2], [0,5]], axis = 0))#performs col-wise sum"
   ]
  }
 ],
 "metadata": {
  "kernelspec": {
   "display_name": "Python 3",
   "language": "python",
   "name": "python3"
  },
  "language_info": {
   "codemirror_mode": {
    "name": "ipython",
    "version": 3
   },
   "file_extension": ".py",
   "mimetype": "text/x-python",
   "name": "python",
   "nbconvert_exporter": "python",
   "pygments_lexer": "ipython3",
   "version": "3.6.5"
  }
 },
 "nbformat": 4,
 "nbformat_minor": 2
}

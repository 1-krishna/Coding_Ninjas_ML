{
 "cells": [
  {
   "cell_type": "code",
   "execution_count": 1,
   "metadata": {},
   "outputs": [],
   "source": [
    "import numpy as np"
   ]
  },
  {
   "cell_type": "code",
   "execution_count": 2,
   "metadata": {},
   "outputs": [],
   "source": [
    "def step_gradient(points, leaning_rate, m, c):\n",
    "    #we need to update m and c\n",
    "    m_slope = 0\n",
    "    c_slope = 0\n",
    "    N = len(points)\n",
    "    for i in range(len(points)):\n",
    "        x = points[i, 0]\n",
    "        y = points[i, 1]\n",
    "        m_slope += (-2/N)*(y - m*x - c)*x\n",
    "        c_slope += (-2/N)*(y - m*x - c)\n",
    "    new_m = m - leaning_rate*m_slope\n",
    "    new_c = c - leaning_rate*c_slope\n",
    "    return new_m, new_c"
   ]
  },
  {
   "cell_type": "code",
   "execution_count": 3,
   "metadata": {},
   "outputs": [],
   "source": [
    "def cost(points, m, c):\n",
    "    total_cost = 0\n",
    "    M = len(points)\n",
    "    for i in range(M):\n",
    "        x = points[i, 0]\n",
    "        y = points[i, 1]\n",
    "        total_cost += (1/M)*((y-m*x-c)**2)\n",
    "    return total_cost\n"
   ]
  },
  {
   "cell_type": "code",
   "execution_count": 4,
   "metadata": {},
   "outputs": [],
   "source": [
    "#this function will take the inputs as shown and returns the final values of m and c after the given number of iterations\n",
    "def gd(points, learning_rate, num_itearations):\n",
    "    #we start with some random value of m and c\n",
    "    m = 0\n",
    "    c = 0\n",
    "    for i in range(num_itearations):\n",
    "        m, c = step_gradient(points, learning_rate, m, c)\n",
    "        print(i, \" Cost: \", cost(points, m, c))\n",
    "    return m, c"
   ]
  },
  {
   "cell_type": "code",
   "execution_count": 5,
   "metadata": {},
   "outputs": [],
   "source": [
    "def run():\n",
    "    #this data has one x and one y\n",
    "    data = np.loadtxt(r\"C:\\Users\\HP\\Coding_Ninjas_ML\\DataSets\\modeule_9_coding_grad\\data.csv\", delimiter=\",\")\n",
    "    learning_rate = 0.0001 #this is the value of alpha\n",
    "    num_iterations = 10 #tells us how many times we need to repeat this process of changing m and c\n",
    "    m, c = gd(data, learning_rate, num_iterations)\n",
    "    print(m, c)"
   ]
  },
  {
   "cell_type": "code",
   "execution_count": 6,
   "metadata": {},
   "outputs": [
    {
     "name": "stdout",
     "output_type": "stream",
     "text": [
      "0  Cost:  1484.5865574086486\n",
      "1  Cost:  457.8542575737672\n",
      "2  Cost:  199.5099857255389\n",
      "3  Cost:  134.50591058200533\n",
      "4  Cost:  118.1496934223995\n",
      "5  Cost:  114.0341490603815\n",
      "6  Cost:  112.99857731713657\n",
      "7  Cost:  112.73798187568467\n",
      "8  Cost:  112.6723843590911\n",
      "9  Cost:  112.65585181499745\n",
      "1.47741737554838 0.029639347874732384\n"
     ]
    }
   ],
   "source": [
    "run()"
   ]
  }
 ],
 "metadata": {
  "kernelspec": {
   "display_name": "Python 3",
   "language": "python",
   "name": "python3"
  },
  "language_info": {
   "codemirror_mode": {
    "name": "ipython",
    "version": 3
   },
   "file_extension": ".py",
   "mimetype": "text/x-python",
   "name": "python",
   "nbconvert_exporter": "python",
   "pygments_lexer": "ipython3",
   "version": "3.6.5"
  }
 },
 "nbformat": 4,
 "nbformat_minor": 2
}

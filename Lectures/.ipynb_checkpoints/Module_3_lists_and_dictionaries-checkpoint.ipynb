{
 "cells": [
  {
   "cell_type": "code",
   "execution_count": 11,
   "metadata": {},
   "outputs": [
    {
     "name": "stdout",
     "output_type": "stream",
     "text": [
      "[1, 2, 3, 4]\n",
      "<class 'list'>\n",
      "<class 'list'>\n",
      "[1, 2, 3]\n",
      "[0, 0, 0, 0, 0, 0, 0, 0, 0, 0]\n",
      "[0, 1, 2, 3, 4, 5, 6, 7, 8, 9, 10, 11, 12, 13, 14, 15, 16, 17, 18, 19]\n",
      "[0, 1, 4, 9, 16, 25, 36, 49, 64, 81]\n",
      "[1, 'hello', True]\n",
      "3\n",
      "1\n",
      "2\n",
      "3\n",
      "4\n"
     ]
    }
   ],
   "source": [
    "#list \n",
    "a = [1, 2, 3, 4]\n",
    "print(a)\n",
    "print(type(a))\n",
    "\n",
    "b = list()\n",
    "print(type(b))\n",
    "\n",
    "c = list([1, 2, 3])\n",
    "print(c)\n",
    "\n",
    "d = list([0 for i in range(10)])\n",
    "print(d)\n",
    "\n",
    "e = list([i for i in range(20)])\n",
    "print(e)\n",
    "\n",
    "f = list([i*i for i in range(10)])\n",
    "print(f)\n",
    "\n",
    "# a list doesn't need to have same kind of data e.g\n",
    "\n",
    "g = [1, \"hello\", True]\n",
    "print(g)\n",
    "\n",
    "#negative indexing also works in lists\n",
    "#slicing also works here, will provide a new list\n",
    "\n",
    "print(len(g)) #to find length of list\n",
    "\n",
    "#fast iteration of list\n",
    "for i in a:\n",
    "    print(i)"
   ]
  },
  {
   "cell_type": "code",
   "execution_count": 19,
   "metadata": {},
   "outputs": [
    {
     "name": "stdout",
     "output_type": "stream",
     "text": [
      "['h', 'ell', 'o']\n",
      "['h', 'e', 'll', 'o']\n",
      "['', 'he', 'll', 'o']\n",
      "['he', 'll', 'o']\n"
     ]
    }
   ],
   "source": [
    "#User input in list\n",
    "\n",
    "#split function in string\n",
    "st = \"h ell o\"\n",
    "print(st.split(\" \"))\n",
    "\n",
    "st = \"h,e,ll,o\"\n",
    "print(st.split(\",\"))\n",
    "\n",
    "st = \" he ll o\"\n",
    "print(st.split(\" \")) #provides an extra empty element\n",
    "#so to deal with this\n",
    "st = st.strip()\n",
    "print(st.split(\" \"))\n",
    "\n"
   ]
  },
  {
   "cell_type": "code",
   "execution_count": 23,
   "metadata": {},
   "outputs": [
    {
     "name": "stdout",
     "output_type": "stream",
     "text": [
      "1 2 3 4\n",
      "['1', '2', '3', '4']\n",
      "[1, 2, 3, 4]\n"
     ]
    }
   ],
   "source": [
    "#space seperated\n",
    "    #basic approach\n",
    "lis = input().strip()\n",
    "lis = lis.split(\" \")\n",
    "print(lis)\n",
    "\n",
    "for i in range(0, len(lis)):\n",
    "    lis[i] = int(lis[i])\n",
    "\n",
    "print(lis)\n"
   ]
  },
  {
   "cell_type": "code",
   "execution_count": 26,
   "metadata": {},
   "outputs": [
    {
     "name": "stdout",
     "output_type": "stream",
     "text": [
      "1 2 4 5\n",
      "[1, 2, 4, 5]\n"
     ]
    }
   ],
   "source": [
    "#faster approach for space separated input\n",
    "l = [int(x) for x in input().strip().split(\" \")]\n",
    "print(l)"
   ]
  },
  {
   "cell_type": "code",
   "execution_count": 2,
   "metadata": {},
   "outputs": [
    {
     "name": "stdout",
     "output_type": "stream",
     "text": [
      "[1, 98, 'abc', 2, 9, 12, 34, 56]\n"
     ]
    }
   ],
   "source": [
    "#adding elements in list\n",
    "l = [1, \"abc\", 2]\n",
    "l.append(9)#always add to last position\n",
    "l\n",
    "\n",
    "l.insert(1, 98) #insert(index, value)\n",
    "    #add to desired index and other elements are shifted right\n",
    "l\n",
    "\n",
    "#adding another list\n",
    "l2 =[12,34,56]\n",
    "l.extend(l2)\n",
    "print(l)\n",
    "\n"
   ]
  },
  {
   "cell_type": "code",
   "execution_count": 14,
   "metadata": {},
   "outputs": [
    {
     "data": {
      "text/plain": [
       "[2, 34]"
      ]
     },
     "execution_count": 14,
     "metadata": {},
     "output_type": "execute_result"
    }
   ],
   "source": [
    "#deleting elements\n",
    "l=[1, 98, 'abc', 2, 9, 12, 34, 56]\n",
    "l.pop() #remove last element and return its value too\n",
    "l\n",
    "\n",
    "l.pop(2) #removes element at 2 index and return its value too\n",
    "l\n",
    "\n",
    "l.remove(9) #remove first occurance of 3\n",
    "l\n",
    "\n",
    "del l[3] #removes 3rd index value\n",
    "l\n",
    "\n",
    "del l[0:2] #removes 0 to 2(excluded) index\n",
    "l"
   ]
  },
  {
   "cell_type": "code",
   "execution_count": 16,
   "metadata": {
    "scrolled": false
   },
   "outputs": [
    {
     "data": {
      "text/plain": [
       "[1, 2, 3, 1, 2, 3, 1, 2, 3, 1, 2, 3]"
      ]
     },
     "execution_count": 16,
     "metadata": {},
     "output_type": "execute_result"
    }
   ],
   "source": [
    "#addition of list with another list\n",
    "l = [1, 2, 3]\n",
    "l = l + l\n",
    "l\n",
    "\n",
    "#multiplication with an int\n",
    "l = 2 * l\n",
    "l"
   ]
  },
  {
   "cell_type": "code",
   "execution_count": 28,
   "metadata": {},
   "outputs": [
    {
     "name": "stdout",
     "output_type": "stream",
     "text": [
      "[1, 1, 1, 1, 2, 2, 2, 3, 3, 3]\n",
      "4\n",
      "0\n",
      "[3, 3, 3, 2, 2, 2, 1, 1, 1, 1]\n",
      "found\n"
     ]
    }
   ],
   "source": [
    "#functions in list\n",
    "l = [1, 2, 3, 1, 2, 3, 1, 2, 3, 1]\n",
    "l.sort()\n",
    "print(l)\n",
    "\n",
    "print(l.count(1)) #returns the count for 1\n",
    "print(l.index(1)) #first occurance index\n",
    "l.reverse()#reverse\n",
    "print(l)\n",
    "\n",
    "if(3 in l): #normal search and condition query\n",
    "    print(\"found\")"
   ]
  },
  {
   "cell_type": "code",
   "execution_count": 31,
   "metadata": {
    "scrolled": true
   },
   "outputs": [
    {
     "name": "stdout",
     "output_type": "stream",
     "text": [
      "7\n",
      "2 13 4 1 3 6 28\n",
      "1 2 3 4 6 13 28 "
     ]
    }
   ],
   "source": [
    "#selection sort question\n",
    "n = int(input())\n",
    "lis = [int(x) for x in input().strip().split(\" \")]\n",
    "\n",
    "for i in range(n):\n",
    "  min = lis[i]\n",
    "  min_index = i\n",
    "  for j in range(i,n):\n",
    "    if lis[min_index]>lis[j]:\n",
    "      min_index = j\n",
    "  a = lis[min_index]\n",
    "  lis[min_index] = lis[i]\n",
    "  lis[i] = a\n",
    "  \n",
    "for i in lis:\n",
    "  print(i, end=\" \")"
   ]
  },
  {
   "cell_type": "code",
   "execution_count": 33,
   "metadata": {},
   "outputs": [
    {
     "name": "stdout",
     "output_type": "stream",
     "text": [
      "6\n"
     ]
    }
   ],
   "source": [
    "lis = [1,2,3]\n",
    "print(sum(lis))"
   ]
  },
  {
   "cell_type": "code",
   "execution_count": 35,
   "metadata": {},
   "outputs": [
    {
     "name": "stdout",
     "output_type": "stream",
     "text": [
      "7\n",
      "-7 1 5 2 -4 3 0\n",
      "3\n"
     ]
    }
   ],
   "source": [
    "#Equilibrium index problem\n",
    "#TLE\n",
    "n = int(input())\n",
    "\n",
    "lis = [int(x) for x in input().strip().split(\" \")]\n",
    "isAvailable = False\n",
    "for i in range(0, n-1):\n",
    "  if(sum(lis[0:i]) == sum(lis[i+1:n])):\n",
    "    print(i)\n",
    "    isAvailable = True\n",
    "    break\n",
    "if not isAvailable:\n",
    "  print(-1)"
   ]
  },
  {
   "cell_type": "code",
   "execution_count": 37,
   "metadata": {},
   "outputs": [
    {
     "name": "stdout",
     "output_type": "stream",
     "text": [
      "7\n",
      "-7 1 5 2 -4 3 0\n",
      "3\n"
     ]
    }
   ],
   "source": [
    "n = int(input())\n",
    "\n",
    "lis = [int(x) for x in input().strip().split(\" \")]\n",
    "is_available = False\n",
    "sum_left = 0\n",
    "sum_right = sum(lis) - lis[0]\n",
    "for i in range(1, n-1):\n",
    "    sum_left += lis[i-1]\n",
    "    sum_right -= lis[i]\n",
    "    if sum_left == sum_right:\n",
    "        print(i)\n",
    "        is_available = True\n",
    "        break\n",
    "if not is_available:\n",
    "    print(-1)"
   ]
  },
  {
   "cell_type": "markdown",
   "metadata": {},
   "source": [
    "# Dictionaries"
   ]
  },
  {
   "cell_type": "code",
   "execution_count": 42,
   "metadata": {},
   "outputs": [
    {
     "name": "stdout",
     "output_type": "stream",
     "text": [
      "{25: 37, 'abc': 98}\n"
     ]
    },
    {
     "data": {
      "text/plain": [
       "{12: 'def', 'abc': 'ghi'}"
      ]
     },
     "execution_count": 42,
     "metadata": {},
     "output_type": "execute_result"
    }
   ],
   "source": [
    "#just like hashmap\n",
    "#key(index) value pairs\n",
    "\n",
    "d = {} # empty dictionary\n",
    "type(d)\n",
    "\n",
    "d[25] = 37\n",
    "d[\"abc\"] = 98\n",
    "print(d)\n",
    "\n",
    "d1 = {12:\"def\", \"abc\": \"ghi\"}\n",
    "d1\n",
    "\n",
    "#Keys in dictionaries are immutable\n",
    "#keys could be-->int, string, tuple\n",
    "#values could be anything e.g list\n",
    "\n"
   ]
  },
  {
   "cell_type": "code",
   "execution_count": 44,
   "metadata": {},
   "outputs": [
    {
     "name": "stdout",
     "output_type": "stream",
     "text": [
      "25 37\n",
      "abc 98\n"
     ]
    }
   ],
   "source": [
    "#fast iterate in dictionary\n",
    "for i in d: #provides only the key in i\n",
    "    print(i, end=\" \")\n",
    "    print(d[i]) #print value"
   ]
  },
  {
   "cell_type": "code",
   "execution_count": 47,
   "metadata": {},
   "outputs": [
    {
     "data": {
      "text/plain": [
       "{'abc': 'ghi'}"
      ]
     },
     "execution_count": 47,
     "metadata": {},
     "output_type": "execute_result"
    }
   ],
   "source": [
    "#deleting element in dictionary\n",
    "d = {12:\"def\", \"abc\": \"ghi\"}\n",
    "del d[12]\n",
    "d"
   ]
  },
  {
   "cell_type": "code",
   "execution_count": 48,
   "metadata": {},
   "outputs": [],
   "source": [
    "#if we want to access an unavailable key it gives error\n"
   ]
  },
  {
   "cell_type": "code",
   "execution_count": 54,
   "metadata": {},
   "outputs": [
    {
     "name": "stdout",
     "output_type": "stream",
     "text": [
      "True\n",
      "2\n",
      "{}\n",
      "dict_keys([12, 'abc'])\n",
      "dict_values(['def', 'ghi'])\n",
      "True\n"
     ]
    }
   ],
   "source": [
    "#common functions in dictionary\n",
    "d1 = {}\n",
    "d2 = {}\n",
    "\n",
    "print(d1 == d2)#we could compare 2 dicts\n",
    "\n",
    "d1 = {12:\"def\", \"abc\": \"ghi\"}\n",
    "print(len(d1)) #gives length of dict\n",
    "\n",
    "d1.clear() #clears the dictionary completely\n",
    "print(d1)\n",
    "\n",
    "d1 = {12:\"def\", \"abc\": \"ghi\"}\n",
    "print(d1.keys()) #gives list of keys\n",
    "print(d1.values()) # gives list of values\n",
    "\n",
    "print(12 in d1) #to check that 23(key) exists or not before accessing to prevent errors"
   ]
  },
  {
   "cell_type": "code",
   "execution_count": null,
   "metadata": {},
   "outputs": [],
   "source": []
  },
  {
   "cell_type": "code",
   "execution_count": null,
   "metadata": {},
   "outputs": [],
   "source": []
  }
 ],
 "metadata": {
  "kernelspec": {
   "display_name": "Python 3",
   "language": "python",
   "name": "python3"
  },
  "language_info": {
   "codemirror_mode": {
    "name": "ipython",
    "version": 3
   },
   "file_extension": ".py",
   "mimetype": "text/x-python",
   "name": "python",
   "nbconvert_exporter": "python",
   "pygments_lexer": "ipython3",
   "version": "3.6.5"
  }
 },
 "nbformat": 4,
 "nbformat_minor": 2
}

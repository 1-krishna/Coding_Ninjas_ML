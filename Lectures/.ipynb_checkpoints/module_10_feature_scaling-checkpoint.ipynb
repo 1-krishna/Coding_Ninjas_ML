{
 "cells": [
  {
   "cell_type": "code",
   "execution_count": 11,
   "metadata": {},
   "outputs": [],
   "source": [
    "import numpy as np\n",
    "from sklearn import preprocessing"
   ]
  },
  {
   "cell_type": "code",
   "execution_count": 12,
   "metadata": {},
   "outputs": [],
   "source": [
    "X = np.array([[1.,-1.,2.], [2.,0.,0.],[0.,1.,-1.]])"
   ]
  },
  {
   "cell_type": "code",
   "execution_count": 13,
   "metadata": {},
   "outputs": [
    {
     "name": "stdout",
     "output_type": "stream",
     "text": [
      "[[ 0.         -1.22474487  1.33630621]\n",
      " [ 1.22474487  0.         -0.26726124]\n",
      " [-1.22474487  1.22474487 -1.06904497]]\n"
     ]
    }
   ],
   "source": [
    "x_scaled = preprocessing.scale(X)\n",
    "print(x_scaled)"
   ]
  },
  {
   "cell_type": "code",
   "execution_count": 14,
   "metadata": {},
   "outputs": [
    {
     "name": "stdout",
     "output_type": "stream",
     "text": [
      "[0. 0. 0.]\n",
      "[1. 1. 1.]\n"
     ]
    }
   ],
   "source": [
    "print(x_scaled.mean(axis=0)) #to find mean (by default it is 0)\n",
    "print(x_scaled.std(axis=0)) #to find std deviation (by default it is 1)"
   ]
  },
  {
   "cell_type": "code",
   "execution_count": 15,
   "metadata": {},
   "outputs": [
    {
     "name": "stdout",
     "output_type": "stream",
     "text": [
      "[[ 0.         -1.22474487  1.33630621]\n",
      " [ 1.22474487  0.         -0.26726124]\n",
      " [-1.22474487  1.22474487 -1.06904497]]\n"
     ]
    }
   ],
   "source": [
    "#in real application deployment we don't have testing data available with us to merge and scale accordingly\n",
    "#so to overcome with this problems we just scale training data and store the parameters that were used for it's scaling\n",
    "#then again use the same parameters for scaling the testing data\n",
    "#e.g\n",
    "\n",
    "scaler = preprocessing.StandardScaler() #similarly we have min-max scaler and other scalers\n",
    "scaler.fit(X)\n",
    "print(scaler.transform(X))\n",
    "#we are getting exactly the same result as x_scaled"
   ]
  },
  {
   "cell_type": "code",
   "execution_count": 16,
   "metadata": {},
   "outputs": [
    {
     "name": "stdout",
     "output_type": "stream",
     "text": [
      "[[0.         2.44948974 2.13808994]]\n"
     ]
    }
   ],
   "source": [
    "#now suppose we have a testing data\n",
    "x_test = [[1,2,3]]\n",
    "#and we want to scale this one accoding to previous parameters itself then\n",
    "print(scaler.transform(x_test))"
   ]
  },
  {
   "cell_type": "code",
   "execution_count": null,
   "metadata": {},
   "outputs": [],
   "source": []
  }
 ],
 "metadata": {
  "kernelspec": {
   "display_name": "Python 3",
   "language": "python",
   "name": "python3"
  },
  "language_info": {
   "codemirror_mode": {
    "name": "ipython",
    "version": 3
   },
   "file_extension": ".py",
   "mimetype": "text/x-python",
   "name": "python",
   "nbconvert_exporter": "python",
   "pygments_lexer": "ipython3",
   "version": "3.6.5"
  }
 },
 "nbformat": 4,
 "nbformat_minor": 2
}

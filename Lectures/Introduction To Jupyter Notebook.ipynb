{
 "cells": [
  {
   "cell_type": "markdown",
   "metadata": {},
   "source": [
    "## Markdown topic ie Intro to jupyter\n",
    "\n",
    "It is cell here we write code+comment. alt+enter, ctrl+enter."
   ]
  },
  {
   "cell_type": "code",
   "execution_count": 9,
   "metadata": {},
   "outputs": [
    {
     "name": "stdout",
     "output_type": "stream",
     "text": [
      "10 15\n"
     ]
    }
   ],
   "source": [
    "a = 10\n",
    "print(a, end=\" \")\n",
    "print (15)"
   ]
  },
  {
   "cell_type": "code",
   "execution_count": 7,
   "metadata": {},
   "outputs": [
    {
     "data": {
      "text/plain": [
       "25"
      ]
     },
     "execution_count": 7,
     "metadata": {},
     "output_type": "execute_result"
    }
   ],
   "source": [
    "#last line me jo return kr rha hoga wo output me aaega\n",
    "testingVariable = 25\n",
    "testingVariable"
   ]
  },
  {
   "cell_type": "code",
   "execution_count": 6,
   "metadata": {},
   "outputs": [
    {
     "name": "stdout",
     "output_type": "stream",
     "text": [
      "<class 'int'>\n",
      "<class 'float'>\n",
      "<class 'complex'>\n"
     ]
    }
   ],
   "source": [
    "a = 13\n",
    "print(type(a))\n",
    "a = 13.2\n",
    "print(type(a))\n",
    "a = 2 + 3j\n",
    "print(type(a))"
   ]
  },
  {
   "cell_type": "code",
   "execution_count": 18,
   "metadata": {},
   "outputs": [
    {
     "name": "stdout",
     "output_type": "stream",
     "text": [
      "2\n",
      "0.6666666666666666\n",
      "0\n",
      "6\n",
      "8\n"
     ]
    }
   ],
   "source": [
    "print(a)\n",
    "\n",
    "print(2/3)\n",
    "print(2//3)\n",
    "\n",
    "print(2*3)\n",
    "print(2**3) #this is power\n",
    "\n",
    "a,b = 2, 3 #works fine\n"
   ]
  },
  {
   "cell_type": "code",
   "execution_count": 21,
   "metadata": {},
   "outputs": [
    {
     "name": "stdout",
     "output_type": "stream",
     "text": [
      "this is string\n",
      "also a string\n"
     ]
    }
   ],
   "source": [
    "#strings\n",
    "a = \"this is string\"\n",
    "b = 'also a string'\n",
    "print(a)\n",
    "print(b)"
   ]
  },
  {
   "cell_type": "code",
   "execution_count": 29,
   "metadata": {},
   "outputs": [
    {
     "name": "stdout",
     "output_type": "stream",
     "text": [
      "10\n",
      "<class 'str'>\n",
      "n\n",
      "new stringalso a string\n",
      "<class 'str'>\n"
     ]
    }
   ],
   "source": [
    "#typical string properties\n",
    "print(len(a))\n",
    "print(type(a))\n",
    "print(a[0]) #0 to len-1\n",
    "#strings are immutable\n",
    "# can't perform a[0] = 'p'\n",
    "# but can perform\n",
    "a = \"new string\"\n",
    "print(a+b)\n",
    "#string+int not allowed\n",
    "\n",
    "#we don't have characters in python\n",
    "print(type('p'))\n"
   ]
  },
  {
   "cell_type": "code",
   "execution_count": 36,
   "metadata": {},
   "outputs": [
    {
     "name": "stdout",
     "output_type": "stream",
     "text": [
      " ABC \n",
      " Abc \n",
      " abc \n",
      "Abc\n",
      "True\n",
      "False\n"
     ]
    }
   ],
   "source": [
    "#few string functions\n",
    "a = \" Abc \"\n",
    "print(a.upper())\n",
    "print(a)\n",
    "print(a.lower())\n",
    "#to remove leading and trailing whitespace\n",
    "print(a.strip())\n",
    "a = a.strip()\n",
    "print(a.isalpha())\n",
    "print(a.isdigit())"
   ]
  },
  {
   "cell_type": "code",
   "execution_count": 43,
   "metadata": {},
   "outputs": [
    {
     "name": "stdout",
     "output_type": "stream",
     "text": [
      "123\n",
      "123\n",
      "<class 'str'>\n",
      "456\n",
      "456\n",
      "<class 'int'>\n"
     ]
    }
   ],
   "source": [
    "#User input\n",
    "a = input()\n",
    "print(a)\n",
    "#user input is by default string\n",
    "print(type(a))\n",
    "\n",
    "b = int(input())\n",
    "\n",
    "print(b)\n",
    "print(type(b))\n",
    "\n"
   ]
  },
  {
   "cell_type": "code",
   "execution_count": 45,
   "metadata": {},
   "outputs": [
    {
     "name": "stdout",
     "output_type": "stream",
     "text": [
      "c\n"
     ]
    }
   ],
   "source": [
    "#negative indexing\n",
    "s = \"abc\"\n",
    "print(s[-1])"
   ]
  },
  {
   "cell_type": "code",
   "execution_count": 48,
   "metadata": {},
   "outputs": [
    {
     "name": "stdout",
     "output_type": "stream",
     "text": [
      "bc\n",
      "fg\n",
      "efgh\n",
      "abcd\n",
      "abcdefgh\n",
      "h\n"
     ]
    }
   ],
   "source": [
    "#slicing\n",
    "s = \"abcdefgh\"\n",
    "print(s[1:3])\n",
    "print(s[-3:-1])\n",
    "print(s[4:])\n",
    "print(s[:4])\n",
    "print(s[:])\n",
    "print(s[-1:])"
   ]
  },
  {
   "cell_type": "code",
   "execution_count": 50,
   "metadata": {},
   "outputs": [
    {
     "name": "stdout",
     "output_type": "stream",
     "text": [
      "<class 'tuple'>\n",
      "1\n",
      "('abc', 2.3)\n"
     ]
    }
   ],
   "source": [
    "#tuples\n",
    "#tuples are also immutable\n",
    "t = (1,2,3)\n",
    "print(type(t))\n",
    "print(t[0])\n",
    "\n",
    "#tuples can have different entities\n",
    "t = (1, \"abc\", 2.3)\n",
    "\n",
    "#slicing works on tuples also\n",
    "print(t[1:])\n",
    "\n"
   ]
  },
  {
   "cell_type": "code",
   "execution_count": 2,
   "metadata": {},
   "outputs": [
    {
     "name": "stdout",
     "output_type": "stream",
     "text": [
      "(1, 2, 'bc', 2.3)\n",
      "(1, 2, 1, 2)\n",
      "True\n"
     ]
    }
   ],
   "source": [
    "#operators on tuples\n",
    "t = (1,2)\n",
    "k = ('bc', 2.3)\n",
    "print(t+k)\n",
    "# t*k gives error\n",
    "\n",
    "print(t*2)\n",
    "\n",
    "#fetch query on tuples\n",
    "print(1 in t)"
   ]
  },
  {
   "cell_type": "code",
   "execution_count": 5,
   "metadata": {},
   "outputs": [
    {
     "name": "stdout",
     "output_type": "stream",
     "text": [
      "B\n"
     ]
    }
   ],
   "source": [
    "if True or True:\n",
    "    if False and True or False:\n",
    "        print('A')\n",
    "    elif False and False or True and True:\n",
    "        print('B')\n",
    "    else:\n",
    "        print('C')\n",
    "else:\n",
    "     print('D')"
   ]
  },
  {
   "cell_type": "code",
   "execution_count": 7,
   "metadata": {},
   "outputs": [
    {
     "name": "stdout",
     "output_type": "stream",
     "text": [
      "3 4 5 "
     ]
    }
   ],
   "source": [
    "a = 3\n",
    "for i in range(a):\n",
    "    print(a, end=\" \")\n",
    "    a +=1"
   ]
  },
  {
   "cell_type": "code",
   "execution_count": 8,
   "metadata": {},
   "outputs": [
    {
     "name": "stdout",
     "output_type": "stream",
     "text": [
      "a b c d "
     ]
    }
   ],
   "source": [
    "x = 'abcd'\n",
    "for i in x:\n",
    "     print(i, end = \" \")\n",
    "     x.upper()"
   ]
  },
  {
   "cell_type": "code",
   "execution_count": 9,
   "metadata": {},
   "outputs": [
    {
     "name": "stdout",
     "output_type": "stream",
     "text": [
      "abcd\n",
      "a\n",
      "a\n",
      "a\n"
     ]
    }
   ],
   "source": [
    "x = 'abcd'\n",
    "for i in range(len(x)):\n",
    "   print(x)\n",
    "   x = 'a'"
   ]
  },
  {
   "cell_type": "code",
   "execution_count": null,
   "metadata": {},
   "outputs": [],
   "source": []
  }
 ],
 "metadata": {
  "kernelspec": {
   "display_name": "Python 3",
   "language": "python",
   "name": "python3"
  },
  "language_info": {
   "codemirror_mode": {
    "name": "ipython",
    "version": 3
   },
   "file_extension": ".py",
   "mimetype": "text/x-python",
   "name": "python",
   "nbconvert_exporter": "python",
   "pygments_lexer": "ipython3",
   "version": "3.6.5"
  }
 },
 "nbformat": 4,
 "nbformat_minor": 2
}

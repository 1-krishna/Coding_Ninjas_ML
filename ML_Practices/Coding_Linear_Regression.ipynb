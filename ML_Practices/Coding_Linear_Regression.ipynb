{
 "cells": [
  {
   "cell_type": "code",
   "execution_count": 1,
   "metadata": {},
   "outputs": [],
   "source": [
    "import numpy as np\n",
    "import pandas as pd"
   ]
  },
  {
   "cell_type": "code",
   "execution_count": 2,
   "metadata": {},
   "outputs": [],
   "source": [
    "def fit(x, y):\n",
    "    m = ((x*y).mean() - x.mean()*y.mean())/((x*x).mean() - x.mean()*x.mean())\n",
    "    c = y.mean() - m*(x.mean())\n",
    "    return (m, c)"
   ]
  },
  {
   "cell_type": "code",
   "execution_count": 3,
   "metadata": {},
   "outputs": [],
   "source": [
    "def predict(x, m, c):\n",
    "    return m*x + c"
   ]
  },
  {
   "cell_type": "code",
   "execution_count": 4,
   "metadata": {},
   "outputs": [],
   "source": [
    "data = np.loadtxt(r\"C:\\Users\\HP\\Coding_Ninjas_ML\\DataSets\\Module_8_Dummy_data\\data.csv\", delimiter=\",\")"
   ]
  },
  {
   "cell_type": "code",
   "execution_count": 5,
   "metadata": {},
   "outputs": [],
   "source": [
    "def coefficient(y_pred, y_true):\n",
    "    u = 0\n",
    "    for i in range(len(y_pred)):\n",
    "        u = u + (y_true[i] - y_pred[i])**2\n",
    "    mean_value = y_true.mean()\n",
    "    v = 0\n",
    "    for i in y_true:\n",
    "        v = v + (i - mean_value)**2\n",
    "        \n",
    "    return 1 - u/v"
   ]
  },
  {
   "cell_type": "code",
   "execution_count": 6,
   "metadata": {},
   "outputs": [],
   "source": [
    "def cost(x,y,m,c):\n",
    "    return ((y-m*x-c)**2).mean()"
   ]
  },
  {
   "cell_type": "code",
   "execution_count": 7,
   "metadata": {},
   "outputs": [],
   "source": [
    "#testing our functions\n",
    "x = data[:, 0]\n",
    "y = data[:, 1]\n",
    "\n",
    "from sklearn import model_selection"
   ]
  },
  {
   "cell_type": "code",
   "execution_count": 8,
   "metadata": {},
   "outputs": [],
   "source": [
    "x_train, x_test, y_train, y_test = model_selection.train_test_split(x, y)"
   ]
  },
  {
   "cell_type": "code",
   "execution_count": 9,
   "metadata": {},
   "outputs": [
    {
     "name": "stdout",
     "output_type": "stream",
     "text": [
      "1.278690123643988\n",
      "10.251435950148526\n"
     ]
    }
   ],
   "source": [
    "m, c = fit(x_train, y_train)\n",
    "print(m)\n",
    "print(c)"
   ]
  },
  {
   "cell_type": "code",
   "execution_count": 10,
   "metadata": {},
   "outputs": [
    {
     "name": "stdout",
     "output_type": "stream",
     "text": [
      "[ 90.12357207  85.49806778  60.72360244  48.84715332  69.89968164\n",
      "  73.68756432 104.25710159  59.35885025  95.53668685  62.5623823\n",
      "  73.43464155  69.84760416  65.10171157  80.20752314 115.2441528\n",
      "  74.76556403  63.64239878  44.86249071  83.43207142  83.87856466\n",
      "  82.90598149  91.486778    44.84712424  57.81251298 118.5912173 ]\n"
     ]
    },
    {
     "data": {
      "text/plain": [
       "array([ 69.36651622,  82.02480977,  72.85084715,  68.5835452 ,\n",
       "        53.27258923,  66.78455348, 100.20226808,  62.80903355,\n",
       "        83.59972548,  88.92969706,  75.57796854,  74.42427654,\n",
       "        67.15639185,  83.01045721,  90.8056924 ,  86.16831969,\n",
       "        78.86714006,  60.83373356,  74.89786584,  94.88770073,\n",
       "        74.27947273,  83.78191475,  60.06251443,  65.37297992,\n",
       "        93.89829524])"
      ]
     },
     "execution_count": 10,
     "metadata": {},
     "output_type": "execute_result"
    }
   ],
   "source": [
    "print(y_test)\n",
    "predict(x_test, m, c)"
   ]
  }
 ],
 "metadata": {
  "kernelspec": {
   "display_name": "Python 3",
   "language": "python",
   "name": "python3"
  },
  "language_info": {
   "codemirror_mode": {
    "name": "ipython",
    "version": 3
   },
   "file_extension": ".py",
   "mimetype": "text/x-python",
   "name": "python",
   "nbconvert_exporter": "python",
   "pygments_lexer": "ipython3",
   "version": "3.6.5"
  }
 },
 "nbformat": 4,
 "nbformat_minor": 2
}

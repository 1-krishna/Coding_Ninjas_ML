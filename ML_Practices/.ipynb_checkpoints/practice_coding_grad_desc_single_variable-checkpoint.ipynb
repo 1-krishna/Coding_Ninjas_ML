{
 "cells": [
  {
   "cell_type": "code",
   "execution_count": 1,
   "metadata": {},
   "outputs": [],
   "source": [
    "import numpy as np"
   ]
  },
  {
   "cell_type": "code",
   "execution_count": 2,
   "metadata": {},
   "outputs": [],
   "source": [
    "def cost(data, m, c):\n",
    "    N = len(data)\n",
    "    total_cost = 0\n",
    "    for i in range(N):\n",
    "        x = data[i, 0]\n",
    "        y = data[i, 1]\n",
    "        total_cost += (1/N)*((y - m*x - c)**2)\n",
    "    return total_cost"
   ]
  },
  {
   "cell_type": "code",
   "execution_count": 3,
   "metadata": {},
   "outputs": [],
   "source": [
    "def step_gradient(data, m, c, alpha):\n",
    "    N = len(data)\n",
    "    m_slope = 0\n",
    "    c_slope = 0\n",
    "    for i in range(N):\n",
    "        x = data[i, 0]\n",
    "        y = data[i, 1]\n",
    "        m_slope += (-2/N)*(y - m*x - c)*x\n",
    "        c_slope += (-2/N)*(y - m*x - c)\n",
    "    new_m = m - alpha * m_slope\n",
    "    new_c = c - alpha * c_slope\n",
    "    return new_m, new_c"
   ]
  },
  {
   "cell_type": "code",
   "execution_count": 4,
   "metadata": {},
   "outputs": [],
   "source": [
    "def gradient_descent(data, num_iterations, alpha):\n",
    "    m = 0\n",
    "    c = 0\n",
    "    for i in range(num_iterations):\n",
    "        m, c = step_gradient(data, m, c, alpha)\n",
    "        print(i, \" Total Cost: \", cost(data, m, c))\n",
    "    return m, c"
   ]
  },
  {
   "cell_type": "code",
   "execution_count": 5,
   "metadata": {},
   "outputs": [],
   "source": [
    "def run():\n",
    "    data = np.loadtxt(r\"C:\\Users\\HP\\Coding_Ninjas_ML\\DataSets\\modeule_9_coding_grad\\data.csv\", delimiter=\",\")\n",
    "    num_itreations = 100\n",
    "    alpha = 0.0001\n",
    "    m, c = gradient_descent(data, num_itreations, alpha)\n",
    "    \n",
    "    print(m ,\" \", c)"
   ]
  },
  {
   "cell_type": "code",
   "execution_count": 6,
   "metadata": {},
   "outputs": [
    {
     "name": "stdout",
     "output_type": "stream",
     "text": [
      "0  Total Cost:  1484.5865574086486\n",
      "1  Total Cost:  457.8542575737672\n",
      "2  Total Cost:  199.5099857255389\n",
      "3  Total Cost:  134.50591058200533\n",
      "4  Total Cost:  118.1496934223995\n",
      "5  Total Cost:  114.0341490603815\n",
      "6  Total Cost:  112.99857731713657\n",
      "7  Total Cost:  112.73798187568467\n",
      "8  Total Cost:  112.6723843590911\n",
      "9  Total Cost:  112.65585181499745\n",
      "10  Total Cost:  112.65166489759581\n",
      "11  Total Cost:  112.6505843615011\n",
      "12  Total Cost:  112.65028544701502\n",
      "13  Total Cost:  112.65018320293967\n",
      "14  Total Cost:  112.650130445072\n",
      "15  Total Cost:  112.65009013922885\n",
      "16  Total Cost:  112.6500529669463\n",
      "17  Total Cost:  112.65001658353178\n",
      "18  Total Cost:  112.64998039901865\n",
      "19  Total Cost:  112.64994426496071\n",
      "20  Total Cost:  112.64990814400622\n",
      "21  Total Cost:  112.64987202675677\n",
      "22  Total Cost:  112.64983591084761\n",
      "23  Total Cost:  112.64979979568368\n",
      "24  Total Cost:  112.64976368111523\n",
      "25  Total Cost:  112.64972756710469\n",
      "26  Total Cost:  112.64969145364236\n",
      "27  Total Cost:  112.64965534072611\n",
      "28  Total Cost:  112.64961922835512\n",
      "29  Total Cost:  112.64958311652944\n",
      "30  Total Cost:  112.64954700524868\n",
      "31  Total Cost:  112.64951089451318\n",
      "32  Total Cost:  112.64947478432279\n",
      "33  Total Cost:  112.64943867467744\n",
      "34  Total Cost:  112.64940256557728\n",
      "35  Total Cost:  112.64936645702221\n",
      "36  Total Cost:  112.64933034901203\n",
      "37  Total Cost:  112.64929424154704\n",
      "38  Total Cost:  112.64925813462712\n",
      "39  Total Cost:  112.6492220282522\n",
      "40  Total Cost:  112.64918592242235\n",
      "41  Total Cost:  112.64914981713754\n",
      "42  Total Cost:  112.64911371239779\n",
      "43  Total Cost:  112.64907760820296\n",
      "44  Total Cost:  112.64904150455324\n",
      "45  Total Cost:  112.64900540144845\n",
      "46  Total Cost:  112.64896929888867\n",
      "47  Total Cost:  112.64893319687388\n",
      "48  Total Cost:  112.6488970954041\n",
      "49  Total Cost:  112.64886099447922\n",
      "50  Total Cost:  112.64882489409929\n",
      "51  Total Cost:  112.64878879426433\n",
      "52  Total Cost:  112.64875269497436\n",
      "53  Total Cost:  112.64871659622933\n",
      "54  Total Cost:  112.64868049802914\n",
      "55  Total Cost:  112.648644400374\n",
      "56  Total Cost:  112.64860830326366\n",
      "57  Total Cost:  112.64857220669828\n",
      "58  Total Cost:  112.64853611067772\n",
      "59  Total Cost:  112.64850001520212\n",
      "60  Total Cost:  112.64846392027131\n",
      "61  Total Cost:  112.64842782588545\n",
      "62  Total Cost:  112.64839173204442\n",
      "63  Total Cost:  112.6483556387483\n",
      "64  Total Cost:  112.64831954599697\n",
      "65  Total Cost:  112.64828345379043\n",
      "66  Total Cost:  112.64824736212877\n",
      "67  Total Cost:  112.64821127101193\n",
      "68  Total Cost:  112.64817518043986\n",
      "69  Total Cost:  112.64813909041264\n",
      "70  Total Cost:  112.64810300093015\n",
      "71  Total Cost:  112.64806691199259\n",
      "72  Total Cost:  112.64803082359971\n",
      "73  Total Cost:  112.64799473575155\n",
      "74  Total Cost:  112.64795864844827\n",
      "75  Total Cost:  112.64792256168963\n",
      "76  Total Cost:  112.64788647547579\n",
      "77  Total Cost:  112.64785038980668\n",
      "78  Total Cost:  112.64781430468226\n",
      "79  Total Cost:  112.64777822010265\n",
      "80  Total Cost:  112.6477421360677\n",
      "81  Total Cost:  112.64770605257743\n",
      "82  Total Cost:  112.64766996963193\n",
      "83  Total Cost:  112.64763388723107\n",
      "84  Total Cost:  112.64759780537483\n",
      "85  Total Cost:  112.64756172406335\n",
      "86  Total Cost:  112.6475256432965\n",
      "87  Total Cost:  112.64748956307432\n",
      "88  Total Cost:  112.64745348339677\n",
      "89  Total Cost:  112.64741740426388\n",
      "90  Total Cost:  112.6473813256756\n",
      "91  Total Cost:  112.64734524763193\n",
      "92  Total Cost:  112.64730917013293\n",
      "93  Total Cost:  112.6472730931785\n",
      "94  Total Cost:  112.64723701676861\n",
      "95  Total Cost:  112.64720094090339\n",
      "96  Total Cost:  112.64716486558265\n",
      "97  Total Cost:  112.64712879080662\n",
      "98  Total Cost:  112.64709271657513\n",
      "99  Total Cost:  112.64705664288809\n",
      "1.4788027175308358   0.035074970592341756\n"
     ]
    }
   ],
   "source": [
    "run()"
   ]
  }
 ],
 "metadata": {
  "kernelspec": {
   "display_name": "Python 3",
   "language": "python",
   "name": "python3"
  },
  "language_info": {
   "codemirror_mode": {
    "name": "ipython",
    "version": 3
   },
   "file_extension": ".py",
   "mimetype": "text/x-python",
   "name": "python",
   "nbconvert_exporter": "python",
   "pygments_lexer": "ipython3",
   "version": "3.6.5"
  }
 },
 "nbformat": 4,
 "nbformat_minor": 2
}

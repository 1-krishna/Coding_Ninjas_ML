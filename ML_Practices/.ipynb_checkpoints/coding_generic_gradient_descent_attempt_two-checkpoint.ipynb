{
 "cells": [
  {
   "cell_type": "code",
   "execution_count": 1,
   "metadata": {},
   "outputs": [],
   "source": [
    "import pandas as pd\n",
    "import numpy as np\n",
    "from sklearn import datasets"
   ]
  },
  {
   "cell_type": "code",
   "execution_count": 2,
   "metadata": {},
   "outputs": [
    {
     "data": {
      "text/plain": [
       "'boston = datasets.load_boston()\\nX = boston.data\\nY = boston.target'"
      ]
     },
     "execution_count": 2,
     "metadata": {},
     "output_type": "execute_result"
    }
   ],
   "source": [
    "\"\"\"boston = datasets.load_boston()\n",
    "X = boston.data\n",
    "Y = boston.target\"\"\""
   ]
  },
  {
   "cell_type": "code",
   "execution_count": 3,
   "metadata": {},
   "outputs": [],
   "source": [
    "boston = np.loadtxt(r\"C:\\Users\\HP\\Coding_Ninjas_ML\\DataSets\\training_boston_x_y_train.csv\", delimiter=\",\")\n",
    "X = boston[:, 0:13]\n",
    "Y = boston[:, 13]"
   ]
  },
  {
   "cell_type": "code",
   "execution_count": null,
   "metadata": {},
   "outputs": [],
   "source": []
  },
  {
   "cell_type": "code",
   "execution_count": 4,
   "metadata": {},
   "outputs": [],
   "source": [
    "df = pd.DataFrame(X)\n",
    "df[13] = 1\n",
    "X = df.values"
   ]
  },
  {
   "cell_type": "code",
   "execution_count": 5,
   "metadata": {},
   "outputs": [],
   "source": [
    "from sklearn.model_selection import train_test_split\n",
    "\n",
    "#x_train ,x_test, y_train, y_test = train_test_split(X, Y)\n",
    "x_train = X\n",
    "y_train = Y"
   ]
  },
  {
   "cell_type": "code",
   "execution_count": 6,
   "metadata": {},
   "outputs": [],
   "source": [
    "def cost(x_data, y_data, m):\n",
    "    N = len(x_data)\n",
    "    total_cost = 0\n",
    "    for i in range(N):\n",
    "        sum_temp = 0\n",
    "        for j in range(len(x_data[0])):\n",
    "            sum_temp += m[j] * x_data[i][j]\n",
    "        total_cost += (1/N) * ((y_data[i] - sum_temp)**2)\n",
    "    return total_cost"
   ]
  },
  {
   "cell_type": "code",
   "execution_count": 7,
   "metadata": {},
   "outputs": [],
   "source": [
    "def step_gradient(m, alpha, x_data, y_data):\n",
    "    row_count = len(x_data)\n",
    "    col_count = len(x_data[0])\n",
    "    m_new = [0 for i in range(col_count)]\n",
    "    \n",
    "    for i in range(col_count):\n",
    "        diff = 0\n",
    "        for j in range(row_count):\n",
    "            temp = 0\n",
    "            for k in range(col_count):\n",
    "                temp += m[k] * x_data[j][k]\n",
    "            diff += (-2/row_count) * (y_data[j] - temp) * x_data[j][i]\n",
    "        m_new[i] += m[i] - alpha * diff\n",
    "    return m_new"
   ]
  },
  {
   "cell_type": "code",
   "execution_count": 8,
   "metadata": {},
   "outputs": [],
   "source": [
    "def gradient_descent(x_data, y_data, num_iterations, alpha):\n",
    "    m = [0 for i in range(len(x_data[0]))]\n",
    "    for i in range(num_iterations):\n",
    "        m = step_gradient(m, alpha, x_data, y_data)\n",
    "        print(i, \" Total cost : \", cost(x_data, y_data, m))\n",
    "    return m"
   ]
  },
  {
   "cell_type": "code",
   "execution_count": 9,
   "metadata": {},
   "outputs": [],
   "source": [
    "def predict(dataset, m):\n",
    "    df = pd.DataFrame(dataset)\n",
    "    df[13] = 1\n",
    "    dataset = df.values\n",
    "    return np.dot(dataset, m)\n"
   ]
  },
  {
   "cell_type": "code",
   "execution_count": 10,
   "metadata": {},
   "outputs": [],
   "source": [
    "def run():\n",
    "    x_data = x_train.copy()\n",
    "    y_data = y_train.copy()\n",
    "    num_iterations = 100\n",
    "    alpha = 0.1\n",
    "    m = gradient_descent(x_data, y_data, num_iterations, alpha)\n",
    "    #return m\n",
    "    dataset = np.loadtxt(r\"C:\\Users\\HP\\Coding_Ninjas_ML\\DataSets\\test_boston_x_test.csv\", delimiter=\",\")\n",
    "    prediction = predict(dataset, m)\n",
    "    np.savetxt(\"test_boston_x_result.csv\",prediction, delimiter=\",\")"
   ]
  },
  {
   "cell_type": "code",
   "execution_count": 11,
   "metadata": {},
   "outputs": [
    {
     "name": "stdout",
     "output_type": "stream",
     "text": [
      "0  Total cost :  374.24035597919686\n",
      "1  Total cost :  245.37909656079904\n",
      "2  Total cost :  165.10614192173668\n",
      "3  Total cost :  114.49508621191686\n",
      "4  Total cost :  82.43432664281796\n",
      "5  Total cost :  62.041704688310936\n",
      "6  Total cost :  49.0154746660482\n",
      "7  Total cost :  40.65519326019771\n",
      "8  Total cost :  35.259728350675914\n",
      "9  Total cost :  31.754121492629718\n",
      "10  Total cost :  29.457161634001743\n",
      "11  Total cost :  27.936007022144533\n",
      "12  Total cost :  26.91492241289637\n",
      "13  Total cost :  26.217802951980175\n",
      "14  Total cost :  25.73187282296311\n",
      "15  Total cost :  25.384699117718043\n",
      "16  Total cost :  25.129603525591072\n",
      "17  Total cost :  24.936384410518777\n",
      "18  Total cost :  24.785404792037365\n",
      "19  Total cost :  24.66381822190748\n",
      "20  Total cost :  24.56315514362143\n",
      "21  Total cost :  24.477776518190062\n",
      "22  Total cost :  24.40388120070023\n",
      "23  Total cost :  24.338867434896194\n",
      "24  Total cost :  24.280921148348455\n",
      "25  Total cost :  24.228749732407817\n",
      "26  Total cost :  24.181409300585184\n",
      "27  Total cost :  24.138192120101174\n",
      "28  Total cost :  24.09855285948923\n",
      "29  Total cost :  24.06205993819115\n",
      "30  Total cost :  24.02836315897722\n",
      "31  Total cost :  23.997171942483217\n",
      "32  Total cost :  23.96824049778335\n",
      "33  Total cost :  23.94135755771043\n",
      "34  Total cost :  23.91633914089352\n",
      "35  Total cost :  23.8930233395274\n",
      "36  Total cost :  23.87126647861827\n",
      "37  Total cost :  23.8509402167778\n",
      "38  Total cost :  23.83192930414061\n",
      "39  Total cost :  23.81412980765422\n",
      "40  Total cost :  23.797447675836793\n",
      "41  Total cost :  23.781797555694713\n",
      "42  Total cost :  23.767101801312187\n",
      "43  Total cost :  23.753289631473613\n",
      "44  Total cost :  23.740296405677086\n",
      "45  Total cost :  23.728062996050767\n",
      "46  Total cost :  23.716535238305664\n",
      "47  Total cost :  23.705663448792908\n",
      "48  Total cost :  23.695401997540305\n",
      "49  Total cost :  23.685708929185047\n",
      "50  Total cost :  23.676545625233352\n",
      "51  Total cost :  23.667876502228168\n",
      "52  Total cost :  23.659668741294812\n",
      "53  Total cost :  23.65189204523743\n",
      "54  Total cost :  23.644518419922004\n",
      "55  Total cost :  23.637521977142345\n",
      "56  Total cost :  23.630878756545354\n",
      "57  Total cost :  23.62456656451033\n",
      "58  Total cost :  23.61856482814463\n",
      "59  Total cost :  23.612854462787244\n",
      "60  Total cost :  23.607417751606434\n",
      "61  Total cost :  23.602238236046137\n",
      "62  Total cost :  23.597300616021258\n",
      "63  Total cost :  23.59259065888811\n",
      "64  Total cost :  23.588095116326052\n",
      "65  Total cost :  23.583801648361966\n",
      "66  Total cost :  23.579698753854302\n",
      "67  Total cost :  23.57577570682546\n",
      "68  Total cost :  23.57202249809743\n",
      "69  Total cost :  23.568429781741976\n",
      "70  Total cost :  23.564988825906962\n",
      "71  Total cost :  23.561691467625845\n",
      "72  Total cost :  23.558530071255525\n",
      "73  Total cost :  23.5554974902237\n",
      "74  Total cost :  23.552587031798264\n",
      "75  Total cost :  23.549792424617905\n",
      "76  Total cost :  23.54710778874906\n",
      "77  Total cost :  23.54452760805564\n",
      "78  Total cost :  23.542046704688318\n",
      "79  Total cost :  23.539660215517657\n",
      "80  Total cost :  23.53736357035109\n",
      "81  Total cost :  23.53515247178877\n",
      "82  Total cost :  23.53302287658537\n",
      "83  Total cost :  23.530970978397182\n",
      "84  Total cost :  23.528993191804343\n",
      "85  Total cost :  23.52708613750682\n",
      "86  Total cost :  23.52524662860241\n",
      "87  Total cost :  23.523471657862032\n",
      "88  Total cost :  23.52175838592513\n",
      "89  Total cost :  23.520104130343867\n",
      "90  Total cost :  23.518506355411585\n",
      "91  Total cost :  23.51696266271513\n",
      "92  Total cost :  23.51547078235668\n",
      "93  Total cost :  23.51402856479403\n",
      "94  Total cost :  23.512633973253628\n",
      "95  Total cost :  23.511285076672532\n",
      "96  Total cost :  23.509980043131097\n",
      "97  Total cost :  23.508717133739317\n",
      "98  Total cost :  23.507494696943343\n",
      "99  Total cost :  23.506311163222136\n"
     ]
    }
   ],
   "source": [
    "run()"
   ]
  },
  {
   "cell_type": "code",
   "execution_count": null,
   "metadata": {},
   "outputs": [],
   "source": []
  }
 ],
 "metadata": {
  "kernelspec": {
   "display_name": "Python 3",
   "language": "python",
   "name": "python3"
  },
  "language_info": {
   "codemirror_mode": {
    "name": "ipython",
    "version": 3
   },
   "file_extension": ".py",
   "mimetype": "text/x-python",
   "name": "python",
   "nbconvert_exporter": "python",
   "pygments_lexer": "ipython3",
   "version": "3.6.5"
  }
 },
 "nbformat": 4,
 "nbformat_minor": 2
}

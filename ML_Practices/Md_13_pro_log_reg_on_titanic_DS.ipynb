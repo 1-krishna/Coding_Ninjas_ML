{
 "cells": [
  {
   "cell_type": "code",
   "execution_count": 169,
   "metadata": {},
   "outputs": [],
   "source": [
    "import pandas as pd\n",
    "from sklearn import datasets\n",
    "import numpy as np\n",
    "from sklearn import preprocessing"
   ]
  },
  {
   "cell_type": "code",
   "execution_count": 170,
   "metadata": {},
   "outputs": [],
   "source": [
    "#titanic_data = np.loadtxt(r\"C:\\Users\\HP\\Coding_Ninjas_ML\\DataSets\\for_logistic_reg_project_training_titanic_x_y_train.csv\", delimiter=\",\")\n",
    "titanic_data = pd.read_csv(r\"C:\\Users\\HP\\Coding_Ninjas_ML\\DataSets\\for_logistic_reg_project_training_titanic_x_y_train.csv\")"
   ]
  },
  {
   "cell_type": "code",
   "execution_count": 171,
   "metadata": {},
   "outputs": [],
   "source": [
    "titanic_data.drop([\"Cabin\"], inplace=True, axis=1)\n",
    "titanic_data.drop([\"Ticket\"], inplace=True, axis=1)"
   ]
  },
  {
   "cell_type": "code",
   "execution_count": 172,
   "metadata": {},
   "outputs": [],
   "source": [
    "titanic_data.Embarked.fillna(value='Q', inplace=True)"
   ]
  },
  {
   "cell_type": "code",
   "execution_count": 173,
   "metadata": {},
   "outputs": [],
   "source": [
    "survived_data = titanic_data[titanic_data.Survived == 1]"
   ]
  },
  {
   "cell_type": "code",
   "execution_count": 174,
   "metadata": {},
   "outputs": [],
   "source": [
    "not_survived_data = titanic_data[titanic_data.Survived == 0]"
   ]
  },
  {
   "cell_type": "code",
   "execution_count": 175,
   "metadata": {},
   "outputs": [],
   "source": [
    "mean_age_of_survived = survived_data.Age.mean()"
   ]
  },
  {
   "cell_type": "code",
   "execution_count": 176,
   "metadata": {},
   "outputs": [],
   "source": [
    "mean_age_of_non_survived = not_survived_data.Age.mean()"
   ]
  },
  {
   "cell_type": "code",
   "execution_count": 177,
   "metadata": {},
   "outputs": [],
   "source": [
    "titanic_data.loc[titanic_data.Survived==1] = titanic_data.fillna(mean_age_of_survived)\n",
    "titanic_data.loc[titanic_data.Survived==0] = titanic_data.fillna(mean_age_of_non_survived)"
   ]
  },
  {
   "cell_type": "code",
   "execution_count": 178,
   "metadata": {},
   "outputs": [
    {
     "data": {
      "text/plain": [
       "'titanic_data.drop([\"Fare\"], axis=1, inplace=True)\\ntitanic_data.drop([\"Embarked\"], axis=1, inplace=True)\\ntitanic_data.drop([\"SibSp\"], axis=1, inplace=True)\\ntitanic_data.drop([\"Parch\"], axis=1, inplace=True)\\ntitanic_data.drop([\"Pclass\"], axis=1, inplace=True)'"
      ]
     },
     "execution_count": 178,
     "metadata": {},
     "output_type": "execute_result"
    }
   ],
   "source": [
    "titanic_data.drop([\"Name\"], axis=1, inplace=True)\n",
    "\"\"\"titanic_data.drop([\"Fare\"], axis=1, inplace=True)\n",
    "titanic_data.drop([\"Embarked\"], axis=1, inplace=True)\n",
    "titanic_data.drop([\"SibSp\"], axis=1, inplace=True)\n",
    "titanic_data.drop([\"Parch\"], axis=1, inplace=True)\n",
    "titanic_data.drop([\"Pclass\"], axis=1, inplace=True)\"\"\""
   ]
  },
  {
   "cell_type": "code",
   "execution_count": 179,
   "metadata": {},
   "outputs": [
    {
     "data": {
      "text/html": [
       "<div>\n",
       "<style scoped>\n",
       "    .dataframe tbody tr th:only-of-type {\n",
       "        vertical-align: middle;\n",
       "    }\n",
       "\n",
       "    .dataframe tbody tr th {\n",
       "        vertical-align: top;\n",
       "    }\n",
       "\n",
       "    .dataframe thead th {\n",
       "        text-align: right;\n",
       "    }\n",
       "</style>\n",
       "<table border=\"1\" class=\"dataframe\">\n",
       "  <thead>\n",
       "    <tr style=\"text-align: right;\">\n",
       "      <th></th>\n",
       "      <th>Pclass</th>\n",
       "      <th>Sex</th>\n",
       "      <th>Age</th>\n",
       "      <th>SibSp</th>\n",
       "      <th>Parch</th>\n",
       "      <th>Fare</th>\n",
       "      <th>Embarked</th>\n",
       "      <th>Survived</th>\n",
       "    </tr>\n",
       "  </thead>\n",
       "  <tbody>\n",
       "    <tr>\n",
       "      <th>0</th>\n",
       "      <td>2</td>\n",
       "      <td>female</td>\n",
       "      <td>29.000000</td>\n",
       "      <td>1</td>\n",
       "      <td>0</td>\n",
       "      <td>26.000</td>\n",
       "      <td>S</td>\n",
       "      <td>1</td>\n",
       "    </tr>\n",
       "    <tr>\n",
       "      <th>1</th>\n",
       "      <td>3</td>\n",
       "      <td>male</td>\n",
       "      <td>30.857143</td>\n",
       "      <td>0</td>\n",
       "      <td>0</td>\n",
       "      <td>8.050</td>\n",
       "      <td>S</td>\n",
       "      <td>0</td>\n",
       "    </tr>\n",
       "    <tr>\n",
       "      <th>2</th>\n",
       "      <td>2</td>\n",
       "      <td>male</td>\n",
       "      <td>39.000000</td>\n",
       "      <td>0</td>\n",
       "      <td>0</td>\n",
       "      <td>26.000</td>\n",
       "      <td>S</td>\n",
       "      <td>0</td>\n",
       "    </tr>\n",
       "    <tr>\n",
       "      <th>3</th>\n",
       "      <td>3</td>\n",
       "      <td>female</td>\n",
       "      <td>29.000000</td>\n",
       "      <td>0</td>\n",
       "      <td>4</td>\n",
       "      <td>21.075</td>\n",
       "      <td>S</td>\n",
       "      <td>0</td>\n",
       "    </tr>\n",
       "    <tr>\n",
       "      <th>4</th>\n",
       "      <td>3</td>\n",
       "      <td>male</td>\n",
       "      <td>25.000000</td>\n",
       "      <td>0</td>\n",
       "      <td>0</td>\n",
       "      <td>7.050</td>\n",
       "      <td>S</td>\n",
       "      <td>0</td>\n",
       "    </tr>\n",
       "  </tbody>\n",
       "</table>\n",
       "</div>"
      ],
      "text/plain": [
       "   Pclass     Sex        Age  SibSp  Parch    Fare Embarked  Survived\n",
       "0       2  female  29.000000      1      0  26.000        S         1\n",
       "1       3    male  30.857143      0      0   8.050        S         0\n",
       "2       2    male  39.000000      0      0  26.000        S         0\n",
       "3       3  female  29.000000      0      4  21.075        S         0\n",
       "4       3    male  25.000000      0      0   7.050        S         0"
      ]
     },
     "execution_count": 179,
     "metadata": {},
     "output_type": "execute_result"
    }
   ],
   "source": [
    "def changeAge(age):\n",
    "    return int(age)\n",
    "titanic_data.head()"
   ]
  },
  {
   "cell_type": "code",
   "execution_count": 180,
   "metadata": {},
   "outputs": [],
   "source": [
    "titanic_data[\"Age\"] = titanic_data.Age.apply(changeAge)"
   ]
  },
  {
   "cell_type": "code",
   "execution_count": 181,
   "metadata": {},
   "outputs": [],
   "source": [
    "def changeEmbarked(em):\n",
    "    if em==\"S\":\n",
    "        return 0\n",
    "    elif em==\"C\":\n",
    "        return -1\n",
    "    else:\n",
    "        return 1"
   ]
  },
  {
   "cell_type": "code",
   "execution_count": 182,
   "metadata": {},
   "outputs": [],
   "source": [
    "def changeSex(sex):\n",
    "    if(sex==\"female\"):\n",
    "        return 1\n",
    "    else:\n",
    "        return -1"
   ]
  },
  {
   "cell_type": "code",
   "execution_count": 183,
   "metadata": {},
   "outputs": [],
   "source": [
    "titanic_data[\"Embarked\"] = titanic_data.Embarked.apply(changeEmbarked)\n",
    "titanic_data[\"Sex\"] = titanic_data.Sex.apply(changeSex)"
   ]
  },
  {
   "cell_type": "code",
   "execution_count": 184,
   "metadata": {},
   "outputs": [],
   "source": [
    "array_data = titanic_data.values\n",
    "x_train = array_data[:, 0:7]\n",
    "\n",
    "\n",
    "scaler = preprocessing.StandardScaler()\n",
    "scaler.fit(x_train)\n",
    "x_train = scaler.transform(x_train)\n",
    "\n",
    "\n",
    "y_train = array_data[:, 7]"
   ]
  },
  {
   "cell_type": "code",
   "execution_count": 185,
   "metadata": {},
   "outputs": [],
   "source": [
    "from sklearn.linear_model import LogisticRegression\n",
    "alg1 = LogisticRegression()"
   ]
  },
  {
   "cell_type": "code",
   "execution_count": 186,
   "metadata": {},
   "outputs": [
    {
     "data": {
      "text/plain": [
       "LogisticRegression(C=1.0, class_weight=None, dual=False, fit_intercept=True,\n",
       "          intercept_scaling=1, max_iter=100, multi_class='ovr', n_jobs=1,\n",
       "          penalty='l2', random_state=None, solver='liblinear', tol=0.0001,\n",
       "          verbose=0, warm_start=False)"
      ]
     },
     "execution_count": 186,
     "metadata": {},
     "output_type": "execute_result"
    }
   ],
   "source": [
    "alg1.fit(x_train, y_train)"
   ]
  },
  {
   "cell_type": "code",
   "execution_count": 187,
   "metadata": {},
   "outputs": [],
   "source": [
    "x_test = pd.read_csv(r\"C:\\Users\\HP\\Coding_Ninjas_ML\\DataSets\\for_logistic_reg_project_test_titanic_x_test.csv\")"
   ]
  },
  {
   "cell_type": "code",
   "execution_count": 188,
   "metadata": {},
   "outputs": [],
   "source": [
    "def doCleaning(testing_data):\n",
    "    testing_data.drop([\"Name\"], axis=1, inplace=True)\n",
    "    testing_data.drop([\"Cabin\"], axis=1, inplace=True)\n",
    "    testing_data.drop([\"Ticket\"], axis=1, inplace=True)\n",
    "    \"\"\"testing_data.drop([\"Fare\"], axis=1, inplace=True)\n",
    "    testing_data.drop([\"SibSp\"], axis=1, inplace=True)\n",
    "    testing_data.drop([\"Parch\"], axis=1, inplace=True)\n",
    "    testing_data.drop([\"Embarked\"], axis=1, inplace=True)\n",
    "    testing_data.drop([\"Pclass\"], axis=1, inplace=True)\"\"\"\n",
    "    \n",
    "    testing_data.Embarked.fillna(value='Q', inplace=True)\n",
    "    \n",
    "    \"\"\"survived_data = testing_data[testing_data.Survived == 1]\n",
    "    not_survived_data = testing_data[testing_data.Survived == 0]\n",
    "    \n",
    "    mean_age_of_survived = survived_data.Age.mean()\n",
    "    mean_age_of_non_survived = not_survived_data.Age.mean()\"\"\"\n",
    "    \n",
    "    \"\"\"testing_data.loc[titanic_data.Survived==1] = testing_data.fillna(mean_age_of_survived)\n",
    "    testing_data.loc[titanic_data.Survived==0] = testing_data.fillna(mean_age_of_non_survived)\"\"\"\n",
    "    \n",
    "    testing_data.Age.fillna(value=((mean_age_of_non_survived+mean_age_of_survived)/2), inplace=True)\n",
    "    \n",
    "    \n",
    "    testing_data[\"Age\"] = testing_data.Age.apply(changeAge)\n",
    "    testing_data[\"Sex\"] = testing_data.Sex.apply(changeSex)\n",
    "    testing_data[\"Embarked\"] = testing_data.Embarked.apply(changeEmbarked)\n",
    "    testing_data = testing_data.values\n",
    "    #testing_data = scaler.transform(testing_data)\n",
    "    return testing_data"
   ]
  },
  {
   "cell_type": "code",
   "execution_count": 189,
   "metadata": {},
   "outputs": [],
   "source": [
    "x_test = doCleaning(x_test)\n"
   ]
  },
  {
   "cell_type": "code",
   "execution_count": 190,
   "metadata": {},
   "outputs": [
    {
     "name": "stdout",
     "output_type": "stream",
     "text": [
      "0.7874251497005988\n"
     ]
    }
   ],
   "source": [
    "print(alg1.score(x_train, y_train))\n",
    "\n",
    "result = alg1.predict(x_test)\n",
    "\n",
    "\"\"\"res_df = pd.DataFrame(result)\n",
    "res_df.columns = [\"predictions\"]\n",
    "res_df.head()\n",
    "\n",
    "res_df[\"predictions\"] = res_df.predictions.apply(changeAge)\n",
    "res_df.head()\n",
    "result = res_df.values\n",
    "#result = result.ravel()\"\"\"\n",
    "result = result.astype(int)\n",
    "np.savetxt(\"Md_13_log_reg_on_titanic_result.csv\", result, delimiter=\",\", fmt=\"%1d\")"
   ]
  },
  {
   "cell_type": "code",
   "execution_count": null,
   "metadata": {},
   "outputs": [],
   "source": []
  },
  {
   "cell_type": "code",
   "execution_count": null,
   "metadata": {},
   "outputs": [],
   "source": []
  }
 ],
 "metadata": {
  "kernelspec": {
   "display_name": "Python 3",
   "language": "python",
   "name": "python3"
  },
  "language_info": {
   "codemirror_mode": {
    "name": "ipython",
    "version": 3
   },
   "file_extension": ".py",
   "mimetype": "text/x-python",
   "name": "python",
   "nbconvert_exporter": "python",
   "pygments_lexer": "ipython3",
   "version": "3.6.5"
  }
 },
 "nbformat": 4,
 "nbformat_minor": 2
}

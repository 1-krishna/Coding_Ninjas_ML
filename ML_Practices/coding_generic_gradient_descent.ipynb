{
 "cells": [
  {
   "cell_type": "code",
   "execution_count": 1,
   "metadata": {},
   "outputs": [],
   "source": [
    "import numpy as np\n",
    "from sklearn import datasets"
   ]
  },
  {
   "cell_type": "code",
   "execution_count": 2,
   "metadata": {},
   "outputs": [],
   "source": [
    "boston = datasets.load_boston()"
   ]
  },
  {
   "cell_type": "code",
   "execution_count": 3,
   "metadata": {},
   "outputs": [],
   "source": [
    "x = boston.data\n",
    "y = boston.target"
   ]
  },
  {
   "cell_type": "code",
   "execution_count": 4,
   "metadata": {},
   "outputs": [],
   "source": [
    "from sklearn.model_selection import train_test_split\n",
    "\n",
    "x_train, x_test, y_train, y_test = train_test_split(x, y)"
   ]
  },
  {
   "cell_type": "code",
   "execution_count": 5,
   "metadata": {},
   "outputs": [],
   "source": [
    "def step_gradient(m, data_x, data_y, alpha):\n",
    "    N = len(data_x)\n",
    "    m_slope = [0 for i in range(len(data_x[0]) + 1)]\n",
    "    new_m_slope = [0 for i in range(len(data_x[0]) + 1)]\n",
    "    for i in range(len(data_x[0]) + 1):\n",
    "        for j in range(len(data_x[0])):\n",
    "            x = data_x[i][j]\n",
    "            y = data_y[i]\n",
    "            m_slope[i] += (-2/N)*(y - m[j]*x)*x\n",
    "        new_m_slope[i] = m[i] - alpha * m_slope[i]\n",
    "    return new_m_slope\n",
    "    "
   ]
  },
  {
   "cell_type": "code",
   "execution_count": 6,
   "metadata": {},
   "outputs": [],
   "source": [
    "def gradient_descent(data_x, data_y, num_iterations, alpha):\n",
    "    m = [0 for i in range(len(data_x[0]) + 1)]\n",
    "    \n",
    "    for i in range(num_iterations):\n",
    "        m = step_gradient(m, data_x, data_y, alpha)\n",
    "    return m\n",
    "    "
   ]
  },
  {
   "cell_type": "code",
   "execution_count": 7,
   "metadata": {},
   "outputs": [],
   "source": [
    "def run():\n",
    "    data_x = x_train.copy()\n",
    "    data_y = y_train.copy()\n",
    "    \n",
    "    num_iterations = 1000\n",
    "    alpha = 0.000001\n",
    "    \n",
    "    m = gradient_descent(data_x, data_y, num_iterations, alpha)\n",
    "    \n",
    "    return m"
   ]
  },
  {
   "cell_type": "code",
   "execution_count": 8,
   "metadata": {},
   "outputs": [],
   "source": [
    "def predict(x_test, m, y_test):\n",
    "    ans = 0\n",
    "    trial = 10\n",
    "    for i in range(len(x_test[0])):\n",
    "        ans += m[i]*x_test[trial][i]\n",
    "    print(ans)\n",
    "    print(y_test[trial])"
   ]
  },
  {
   "cell_type": "code",
   "execution_count": 9,
   "metadata": {},
   "outputs": [
    {
     "name": "stdout",
     "output_type": "stream",
     "text": [
      "48.49806867400287\n",
      "20.5\n"
     ]
    }
   ],
   "source": [
    "predict(x_test, run(), y_test)"
   ]
  }
 ],
 "metadata": {
  "kernelspec": {
   "display_name": "Python 3",
   "language": "python",
   "name": "python3"
  },
  "language_info": {
   "codemirror_mode": {
    "name": "ipython",
    "version": 3
   },
   "file_extension": ".py",
   "mimetype": "text/x-python",
   "name": "python",
   "nbconvert_exporter": "python",
   "pygments_lexer": "ipython3",
   "version": "3.6.5"
  }
 },
 "nbformat": 4,
 "nbformat_minor": 2
}

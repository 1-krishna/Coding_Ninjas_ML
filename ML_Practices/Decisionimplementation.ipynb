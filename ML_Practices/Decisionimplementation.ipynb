{
 "cells": [
  {
   "cell_type": "code",
   "execution_count": 59,
   "metadata": {},
   "outputs": [],
   "source": [
    "from sklearn import datasets\n",
    "import pandas as pd\n",
    "from  math import log"
   ]
  },
  {
   "cell_type": "code",
   "execution_count": 60,
   "metadata": {},
   "outputs": [],
   "source": [
    "iris = datasets.load_iris()\n"
   ]
  },
  {
   "cell_type": "code",
   "execution_count": 61,
   "metadata": {},
   "outputs": [
    {
     "name": "stdout",
     "output_type": "stream",
     "text": [
      "     0    1    2    3\n",
      "0  5.1  3.5  1.4  0.2\n",
      "1  4.9  3.0  1.4  0.2\n",
      "2  4.7  3.2  1.3  0.2\n",
      "3  4.6  3.1  1.5  0.2\n",
      "4  5.0  3.6  1.4  0.2\n",
      "    sl   sw   pl   pw\n",
      "0  5.1  3.5  1.4  0.2\n",
      "1  4.9  3.0  1.4  0.2\n",
      "2  4.7  3.2  1.3  0.2\n",
      "3  4.6  3.1  1.5  0.2\n",
      "4  5.0  3.6  1.4  0.2\n"
     ]
    }
   ],
   "source": [
    "df = pd.DataFrame(iris.data)\n",
    "print(df.head(5))\n",
    "df.columns = [\"sl\", \"sw\", 'pl', 'pw']\n",
    "print(df.head(5))\n"
   ]
  },
  {
   "cell_type": "code",
   "execution_count": 62,
   "metadata": {},
   "outputs": [],
   "source": [
    "#Function to find label for a value\n",
    "#if MIN_Value <=val < (m + Mean_Value) / 2 then it is assigned label a\n",
    "#if (m + Mean_Value) <=val < Mean_Value then it is assigned label b\n",
    "#if (Mean_Value) <=val < (Mean_Value + MAX_Value)/2 then it is assigned label c\n",
    "#if (Mean_Value + MAX_Value)/2 <=val <= MAX_Value  then it is assigned label d\n",
    "\n",
    "def label(val, *boundaries):\n",
    "    if (val < boundaries[0]):\n",
    "        return 'a'\n",
    "    elif (val < boundaries[1]):\n",
    "        return 'b'\n",
    "    elif (val < boundaries[2]):\n",
    "        return 'c'\n",
    "    else:\n",
    "        return 'd'\n",
    "\n",
    "#Function to convert a continuous data into labelled data\n",
    "#There are 4 lables  - a, b, c, d\n",
    "def toLabel(df, old_feature_name):\n",
    "    second = df[old_feature_name].mean()\n",
    "    minimum = df[old_feature_name].min()\n",
    "    first = (minimum + second)/2\n",
    "    maximum = df[old_feature_name].max()\n",
    "    third = (maximum + second)/2\n",
    "    return df[old_feature_name].apply(label, args= (first, second, third))"
   ]
  },
  {
   "cell_type": "code",
   "execution_count": 63,
   "metadata": {},
   "outputs": [],
   "source": [
    "#Convert all columns to labelled data\n",
    "df['sl_labeled'] = toLabel(df, 'sl')\n",
    "df['sw_labeled'] = toLabel(df, 'sw')\n",
    "df['pl_labeled'] = toLabel(df, 'pl')\n",
    "df['pw_labeled'] = toLabel(df, 'pw')\n"
   ]
  },
  {
   "cell_type": "code",
   "execution_count": 64,
   "metadata": {},
   "outputs": [],
   "source": [
    "df.drop(['sl', 'sw', 'pl', 'pw'], axis = 1, inplace = True)"
   ]
  },
  {
   "cell_type": "code",
   "execution_count": 65,
   "metadata": {},
   "outputs": [
    {
     "data": {
      "text/plain": [
       "{'a', 'b', 'c', 'd'}"
      ]
     },
     "execution_count": 65,
     "metadata": {},
     "output_type": "execute_result"
    }
   ],
   "source": [
    "set(df.sl_labeled)\n",
    "\n"
   ]
  },
  {
   "cell_type": "code",
   "execution_count": 66,
   "metadata": {},
   "outputs": [
    {
     "data": {
      "text/plain": [
       "7"
      ]
     },
     "execution_count": 66,
     "metadata": {},
     "output_type": "execute_result"
    }
   ],
   "source": [
    "count=df[df.sl_labeled=='a']\n",
    "y_new=y[df.sw_labeled=='b']\n",
    "int(y_new[y_new.col==0].count())\n"
   ]
  },
  {
   "cell_type": "code",
   "execution_count": null,
   "metadata": {},
   "outputs": [],
   "source": [
    "df.head(5)\n",
    "cal_entropy(df,y,\"pw_labeled\")\n"
   ]
  },
  {
   "cell_type": "code",
   "execution_count": 20,
   "metadata": {},
   "outputs": [],
   "source": [
    "# # count1=df[df[\"sl_labeled\"]==a]\n",
    "# df[sl_labeled]\n",
    "\n",
    "def cal_entropy(df,y,f):\n",
    "    y_count=int(y.count())\n",
    "    possible_values = set(df[f])\n",
    "    entropy=0\n",
    "    for value in possible_values:\n",
    "            y_new=y[df[f]==value]\n",
    "            \n",
    "#             c0=int(y_new[y_new.col==0].count())\n",
    "#             c1=int(y_new[y_new.col==1].count())\n",
    "#             c2=int(y_new[y_new.col==2].count())\n",
    "#             sum=c0+c1+c2\n",
    "            entropy += find_c(y_new,y_count)\n",
    "    return entropy\n",
    "\n",
    "\n",
    "def find_unique_values_in_otp(y):\n",
    "    lst=[]\n",
    "    for i in range(0,3):             ##yha jo y h usme 0,1,2 ka count store if kisis ka count 0 h to list m append ni kiya\n",
    "        a=int(y[y.col==i].count())\n",
    "        if(a!=0):\n",
    "            lst.append(a)\n",
    "    #print(lst)\n",
    "    return lst\n",
    "\n",
    "\n",
    "def find_c(y,count):\n",
    "#     lst=[]\n",
    "#     for i in range(0,3):\n",
    "#         a=int(y[y.col==i].count())\n",
    "#         if(a!=0):\n",
    "#             lst.append(a)\n",
    "#     #print(lst)\n",
    "    total=sum(find_unique_values_in_otp(y))   ##means jaise sl_labeled m total kitte h \n",
    "    sum1=0\n",
    "\n",
    "    for item in find_unique_values_in_otp(y):\n",
    "            sum1 += (-item/total)*log((item/total),2)\n",
    "    entropy_of_class = (total/count)*sum1\n",
    "    return entropy_of_class "
   ]
  },
  {
   "cell_type": "code",
   "execution_count": 22,
   "metadata": {},
   "outputs": [],
   "source": [
    "def print_things(df,y):\n",
    "    print(\"count of 0 =\",int(y[y.col==0].count()))\n",
    "    print(\"count of 1 =\",int(y[y.col==1].count()))\n",
    "    print(\"count of 2 =\",int(y[y.col==2].count()))\n",
    "    #y_count=int(y.count())\n",
    "    print(\"current entropy is=\", find_c(y,int(y.count())))\n",
    "    \n",
    "#print(find_c(y,int(y.count())))"
   ]
  },
  {
   "cell_type": "code",
   "execution_count": 50,
   "metadata": {},
   "outputs": [],
   "source": [
    "def build_tree(df, y, unused_features):\n",
    "\n",
    "    if len(unused_features)==0:\n",
    "        print(\"Reached leaf Node1\")\n",
    "        \n",
    "   \n",
    "    \n",
    "    elif (len(set(y.col))==1):\n",
    "        print(\"Reached leaf Node2\")\n",
    "        \n",
    "     \n",
    "    \n",
    "    print_things(df,y)\n",
    "        \n",
    "    \n",
    "    best_feature = \"\"\n",
    "    temp=20\n",
    "    for f in unused_features:\n",
    "        entropy= cal_entropy(df,y,f)\n",
    "        if(entropy<temp):\n",
    "            temp=entropy\n",
    "            best_feature=f\n",
    "\n",
    "    info_gain = find_c(y,int(y.count()))-temp\n",
    "    print(f\"splitting on feature {best_feature} with information gain = {info_gain}\")\n",
    "    \n",
    "                       \n",
    "    print(\"entropy\" , temp)\n",
    "    print(\"Best Feature \", best_feature)\n"
   ]
  },
  {
   "cell_type": "code",
   "execution_count": 81,
   "metadata": {},
   "outputs": [
    {
     "name": "stdout",
     "output_type": "stream",
     "text": [
      "count of 0 = 50\n",
      "count of 1 = 50\n",
      "count of 2 = 50\n",
      "current entropy is= 1.584962500721156\n",
      "splitting on feature pw_labeled with information gain = 1.2627308217896138\n",
      "entropy 0.32223167893154225\n",
      "Best Feature  pw_labeled\n"
     ]
    }
   ],
   "source": [
    "y = pd.DataFrame(iris.target)\n",
    "y.columns=[\"col\"]\n",
    "unused_features = set(df.columns)\n",
    "build_tree(df, y, unused_features)"
   ]
  },
  {
   "cell_type": "code",
   "execution_count": 105,
   "metadata": {},
   "outputs": [
    {
     "name": "stdout",
     "output_type": "stream",
     "text": [
      "(150, 1)\n"
     ]
    },
    {
     "data": {
      "text/plain": [
       "(133, 1)"
      ]
     },
     "execution_count": 105,
     "metadata": {},
     "output_type": "execute_result"
    }
   ],
   "source": [
    "type(unused_features)\n",
    "len(unused_features)\n",
    "print(y.shape)\n",
    "#y_new=y[df['sl_labeled']=='a']\n",
    "y_new= y.loc[df['sl_labeled'].isin(['a','b','c'])]\n",
    "y_new.shape"
   ]
  }
 ],
 "metadata": {
  "kernelspec": {
   "display_name": "Python 3",
   "language": "python",
   "name": "python3"
  },
  "language_info": {
   "codemirror_mode": {
    "name": "ipython",
    "version": 3
   },
   "file_extension": ".py",
   "mimetype": "text/x-python",
   "name": "python",
   "nbconvert_exporter": "python",
   "pygments_lexer": "ipython3",
   "version": "3.6.5"
  }
 },
 "nbformat": 4,
 "nbformat_minor": 1
}
